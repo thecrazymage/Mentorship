{
  "cells": [
    {
      "cell_type": "markdown",
      "metadata": {
        "id": "aLS5H_-BEHLj",
        "pycharm": {
          "name": "#%% md\n"
        }
      },
      "source": [
        "## План ноутбука\n",
        "\n",
        "1. Установка `PyTorch`\n",
        "1. Введение в `PyTorch`\n",
        "1. Полносвязные слои и функции активации в `PyTorch`\n",
        "1. Градиентный спуск своими руками"
      ]
    },
    {
      "cell_type": "markdown",
      "metadata": {
        "id": "tlEGGsSjEHLk",
        "pycharm": {
          "name": "#%% md\n"
        }
      },
      "source": [
        "## Установка `PyTorch`"
      ]
    },
    {
      "cell_type": "markdown",
      "metadata": {
        "id": "XsL0_DdOEHLk",
        "pycharm": {
          "name": "#%% md\n"
        }
      },
      "source": [
        "Мы будем использовать библиотеку для глубинного обучения `PyTorch`, ее можно не устанавливать, можно пользоваться сайтами [Kaggle](kaggle.com) и [Google Colab](colab.research.google.com/) для обучения в облаке (или с учителем?).\n",
        "\n",
        "Чтобы установить `PyTorch` локально себе на компьютер нужно ответить на два вопроса - какая у вас операционная система и есть ли у вас дискретная видеокарта (GPU) и если есть, то какого производителя. В зависимости от ваших ответов мы получаем три варианта по операционной системе - Linux, Mac и Windows; три варианта по дискретной видеокарте - нет видеокарты (доступен только центральный процессор CPU), есть видеокарта от Nvidia или есть видеокарта от AMD (это производитель именно чипа, конечный вендор может быть другой, например, ASUS, MSI, Palit). Работа с PyTorch с видеокартой от AMD это экзотика, которая выходит за рамки нашего курса, поэтому рассмотрим только варианты *нет видеокарты*/*есть видеокарта от Nvidia*.\n",
        "\n",
        "\n",
        "Выберите на [сайте](https://pytorch.org/get-started/locally/) подходящие вам варианты операционной системы/видеокарты и скопируйте команду для установки. Разберем подробно самые популярные варианты установки:"
      ]
    },
    {
      "cell_type": "markdown",
      "metadata": {
        "id": "pexd4uK6EHLl",
        "pycharm": {
          "name": "#%% md\n"
        }
      },
      "source": [
        "### Установка в Linux ([поддерживаемые дистрибутивы](https://pytorch.org/get-started/locally/#supported-linux-distributions))\n",
        "\n",
        "На линуксе будет работать поддержка `PyTorch` в любой конфигурации, что у вас нет видеокарты, что есть от Nvidia, что от AMD.\n",
        "\n",
        "Пререквизит для работы с видеокартой от Nvidia - нужно поставить CUDA, это инструмент от компании Nvidia, который позволяет ускорять вычисления на их же ГПУ. Чтобы поставить себе на машину все правильно воспользуйтесь этим [гайдом](https://docs.nvidia.com/cuda/cuda-installation-guide-linux/index.html) от Nvidia.\n",
        "\n",
        " - **pip**\n",
        "\n",
        "`pip3 install torch torchvision torchaudio --extra-index-url https://download.pytorch.org/whl/cpu` для тех, у кого нет видеокарты.\n",
        "\n",
        "`pip3 install torch torchvision torchaudio --extra-index-url https://download.pytorch.org/whl/cu118` для тех, у кого есть видеокарта (либо другой `--extra-index-url`, смотрите на сайте PyTorch, в зависимости от версии CUDA).\n",
        "\n",
        " - **conda**\n",
        "\n",
        "`conda install pytorch torchvision torchaudio cpuonly -c pytorch` для тех, у кого нет видеокарты.\n",
        "\n",
        "`conda install pytorch torchvision torchaudio cudatoolkit=11.8 -c pytorch -c conda-forge` для тех, у кого есть видеокарта (либо немного другая команда, в зависимости от версии CUDA)."
      ]
    },
    {
      "cell_type": "markdown",
      "metadata": {
        "id": "v0apW-RZEHLl",
        "pycharm": {
          "name": "#%% md\n"
        }
      },
      "source": [
        "### Установка в Windows\n",
        "\n",
        "На винде будет работать поддержка `PyTorch` только для видеокарт от Nvidia и без видеокарт вообще.\n",
        "\n",
        "Пререквизит для работы с видеокартой от Nvidia - нужно поставить CUDA, это инструмент от компании Nvidia, который позволяет ускорять вычисления на их же ГПУ. Чтобы поставить себе на машину все правильно воспользуйтесь этим [гайдом](https://docs.nvidia.com/cuda/cuda-installation-guide-microsoft-windows/index.html) от Nvidia.\n",
        "\n",
        " - **pip**\n",
        "\n",
        "`pip3 install torch torchvision torchaudio --extra-index-url https://download.pytorch.org/whl/cpu` для тех, у кого нет видеокарты.\n",
        "\n",
        "`pip3 install torch torchvision torchaudio --extra-index-url https://download.pytorch.org/whl/cu118` для тех, у кого есть видеокарта (либо другой `--extra-index-url`, смотрите на сайте PyTorch, в зависимости от версии CUDA).\n",
        "\n",
        " - **conda**\n",
        "\n",
        "`conda install pytorch torchvision torchaudio cpuonly -c pytorch` для тех, у кого нет видеокарты.\n",
        "\n",
        "`conda install pytorch torchvision torchaudio cudatoolkit=11.8 -c pytorch -c conda-forge` для тех, у кого есть видеокарта (либо немного другая команда, в зависимости от версии CUDA).\n",
        "\n"
      ]
    },
    {
      "cell_type": "markdown",
      "metadata": {
        "id": "jbl8Ppt2EHLm",
        "pycharm": {
          "name": "#%% md\n"
        }
      },
      "source": [
        "### Установка на Mac\n",
        "\n",
        "На маках есть поддержка `PyTorch` как на CPU, так и на GPU, но только для Apple Silicon, то есть на чипах M1, M2 и так далее.\n",
        "\n",
        "При этом поддержка ускорения с помощью GPU есть только для версий макоси выше 12.3: MPS acceleration is available on MacOS 12.3+\n",
        "\n",
        " - **pip**\n",
        "\n",
        "`pip3 install torch torchvision torchaudio`\n",
        "\n",
        " - **conda**\n",
        "\n",
        "`conda install pytorch::pytorch torchvision torchaudio -c pytorch`"
      ]
    },
    {
      "cell_type": "markdown",
      "metadata": {
        "id": "G9BEuRu0EHLn",
        "pycharm": {
          "name": "#%% md\n"
        }
      },
      "source": [
        "## Введение в `PyTorch`"
      ]
    },
    {
      "cell_type": "markdown",
      "metadata": {
        "id": "3LwwcXSXEHLo",
        "pycharm": {
          "name": "#%% md\n"
        }
      },
      "source": [
        "### Тензоры\n",
        "\n",
        "Тензоры — это специализированная структура данных, по сути это массивы и матрицы. Тензоры очень похожи на массивы в numpy, так что, если у вас хорошо с numpy, то разобраться в PyTorch тензорах будет очень просто. В PyTorch мы используем тензоры для кодирования входных и выходных данных модели, а также параметров модели."
      ]
    },
    {
      "cell_type": "code",
      "execution_count": 1,
      "metadata": {
        "execution": {
          "iopub.execute_input": "2023-10-02T11:53:23.938458Z",
          "iopub.status.busy": "2023-10-02T11:53:23.938218Z",
          "iopub.status.idle": "2023-10-02T11:53:23.941030Z",
          "shell.execute_reply": "2023-10-02T11:53:23.940543Z",
          "shell.execute_reply.started": "2023-10-02T11:53:23.938440Z"
        },
        "id": "llTFgNcmEHLo",
        "pycharm": {
          "name": "#%%\n"
        }
      },
      "outputs": [],
      "source": [
        "import torch\n",
        "import numpy as np"
      ]
    },
    {
      "cell_type": "markdown",
      "metadata": {
        "id": "HBs9Gsv8EHLq"
      },
      "source": [
        "### Создание тензоров\n",
        "\n",
        "Тензор можно создать напрямую из каких-то данных - нам подходят все списки с числами:"
      ]
    },
    {
      "cell_type": "code",
      "execution_count": 2,
      "metadata": {
        "colab": {
          "base_uri": "https://localhost:8080/"
        },
        "execution": {
          "iopub.execute_input": "2023-10-02T11:55:13.443096Z",
          "iopub.status.busy": "2023-10-02T11:55:13.442866Z",
          "iopub.status.idle": "2023-10-02T11:55:13.448755Z",
          "shell.execute_reply": "2023-10-02T11:55:13.448406Z",
          "shell.execute_reply.started": "2023-10-02T11:55:13.443078Z"
        },
        "id": "CC8aKklJEHLq",
        "outputId": "fa3574bd-f039-470a-f60a-8226bc2e1519"
      },
      "outputs": [
        {
          "data": {
            "text/plain": [
              "tensor([1, 2, 3, 4])"
            ]
          },
          "execution_count": 2,
          "metadata": {},
          "output_type": "execute_result"
        }
      ],
      "source": [
        "some_data = [1, 2, 3, 4]\n",
        "some_tensor = torch.tensor(some_data)\n",
        "\n",
        "some_tensor"
      ]
    },
    {
      "cell_type": "code",
      "execution_count": 3,
      "metadata": {
        "colab": {
          "base_uri": "https://localhost:8080/"
        },
        "execution": {
          "iopub.execute_input": "2023-10-02T11:55:26.753220Z",
          "iopub.status.busy": "2023-10-02T11:55:26.753032Z",
          "iopub.status.idle": "2023-10-02T11:55:26.757098Z",
          "shell.execute_reply": "2023-10-02T11:55:26.756801Z",
          "shell.execute_reply.started": "2023-10-02T11:55:26.753206Z"
        },
        "id": "xhDpiy47EHLr",
        "outputId": "4818382d-57d1-4db3-b3cb-fce92bedc97b",
        "pycharm": {
          "name": "#%%\n"
        }
      },
      "outputs": [
        {
          "data": {
            "text/plain": [
              "tensor([[1, 2],\n",
              "        [3, 4],\n",
              "        [5, 6]])"
            ]
          },
          "execution_count": 3,
          "metadata": {},
          "output_type": "execute_result"
        }
      ],
      "source": [
        "some_data = [[1, 2], [3, 4], [5, 6]]\n",
        "some_tensor = torch.tensor(some_data)\n",
        "\n",
        "some_tensor"
      ]
    },
    {
      "cell_type": "code",
      "execution_count": 4,
      "metadata": {
        "colab": {
          "base_uri": "https://localhost:8080/"
        },
        "execution": {
          "iopub.execute_input": "2023-10-02T11:55:30.462826Z",
          "iopub.status.busy": "2023-10-02T11:55:30.462643Z",
          "iopub.status.idle": "2023-10-02T11:55:30.466127Z",
          "shell.execute_reply": "2023-10-02T11:55:30.465839Z",
          "shell.execute_reply.started": "2023-10-02T11:55:30.462811Z"
        },
        "id": "jawiT1B2EHLs",
        "outputId": "3375c700-7d55-48ba-a7c3-9fbfd75c7c1e"
      },
      "outputs": [
        {
          "data": {
            "text/plain": [
              "tensor([[[1],\n",
              "         [2]],\n",
              "\n",
              "        [[3],\n",
              "         [4]],\n",
              "\n",
              "        [[5],\n",
              "         [6]]])"
            ]
          },
          "execution_count": 4,
          "metadata": {},
          "output_type": "execute_result"
        }
      ],
      "source": [
        "some_data = [[[1], [2]], [[3], [4]], [[5], [6]]]\n",
        "some_tensor = torch.tensor(some_data)\n",
        "\n",
        "some_tensor"
      ]
    },
    {
      "cell_type": "markdown",
      "metadata": {
        "id": "ewAdLplQEHLs"
      },
      "source": [
        "На самом деле про \"все\" списки с числами - обман. Если у вашего списка есть какой-то уровень вложенности, то должны совпадать размерности у всех вложенных списков (подробнее про размерности поговорим позже):"
      ]
    },
    {
      "cell_type": "code",
      "execution_count": 7,
      "metadata": {
        "colab": {
          "base_uri": "https://localhost:8080/"
        },
        "execution": {
          "iopub.execute_input": "2023-10-02T11:55:59.924889Z",
          "iopub.status.busy": "2023-10-02T11:55:59.924656Z",
          "iopub.status.idle": "2023-10-02T11:56:00.061596Z",
          "shell.execute_reply": "2023-10-02T11:56:00.061130Z",
          "shell.execute_reply.started": "2023-10-02T11:55:59.924871Z"
        },
        "id": "KTiRu6ykEHLs",
        "outputId": "16e97be7-d2c5-4766-f7c2-0da61e6bb0d3"
      },
      "outputs": [
        {
          "data": {
            "text/plain": [
              "tensor([[1, 2, 2],\n",
              "        [3, 4, 3],\n",
              "        [5, 6, 7]])"
            ]
          },
          "execution_count": 7,
          "metadata": {},
          "output_type": "execute_result"
        }
      ],
      "source": [
        "some_other_data = [[1, 2, 2], [3, 4, 3], [5, 6, 7]]\n",
        "some_other_tensor = torch.tensor(some_other_data)\n",
        "\n",
        "some_other_tensor"
      ]
    },
    {
      "cell_type": "markdown",
      "metadata": {
        "id": "eRMYn3YkEHLs"
      },
      "source": [
        "Также тензоры можно создавать из numpy массивов и наоборот:"
      ]
    },
    {
      "cell_type": "code",
      "execution_count": 8,
      "metadata": {
        "colab": {
          "base_uri": "https://localhost:8080/"
        },
        "execution": {
          "iopub.execute_input": "2023-10-02T11:56:13.622820Z",
          "iopub.status.busy": "2023-10-02T11:56:13.622611Z",
          "iopub.status.idle": "2023-10-02T11:56:13.625694Z",
          "shell.execute_reply": "2023-10-02T11:56:13.625426Z",
          "shell.execute_reply.started": "2023-10-02T11:56:13.622804Z"
        },
        "id": "TdF86BY6EHLs",
        "outputId": "6d8baaf5-1006-4a06-fa38-3112eafb3b4a",
        "pycharm": {
          "name": "#%%\n"
        }
      },
      "outputs": [
        {
          "data": {
            "text/plain": [
              "array([[[1],\n",
              "        [2]],\n",
              "\n",
              "       [[3],\n",
              "        [4]],\n",
              "\n",
              "       [[5],\n",
              "        [6]]])"
            ]
          },
          "execution_count": 8,
          "metadata": {},
          "output_type": "execute_result"
        }
      ],
      "source": [
        "some_numpy_array = np.array(some_data)\n",
        "\n",
        "some_numpy_array"
      ]
    },
    {
      "cell_type": "code",
      "execution_count": 9,
      "metadata": {
        "colab": {
          "base_uri": "https://localhost:8080/"
        },
        "execution": {
          "iopub.execute_input": "2023-10-02T11:56:31.841810Z",
          "iopub.status.busy": "2023-10-02T11:56:31.841622Z",
          "iopub.status.idle": "2023-10-02T11:56:31.853283Z",
          "shell.execute_reply": "2023-10-02T11:56:31.852994Z",
          "shell.execute_reply.started": "2023-10-02T11:56:31.841796Z"
        },
        "id": "WnKKFtxZEHLt",
        "outputId": "e2f29d55-4733-4a38-eba9-5840691e87fa"
      },
      "outputs": [
        {
          "data": {
            "text/plain": [
              "tensor([[[1],\n",
              "         [2]],\n",
              "\n",
              "        [[3],\n",
              "         [4]],\n",
              "\n",
              "        [[5],\n",
              "         [6]]])"
            ]
          },
          "execution_count": 9,
          "metadata": {},
          "output_type": "execute_result"
        }
      ],
      "source": [
        "some_tensor_from_numpy = torch.from_numpy(some_numpy_array)\n",
        "\n",
        "some_tensor_from_numpy"
      ]
    },
    {
      "cell_type": "code",
      "execution_count": 10,
      "metadata": {
        "colab": {
          "base_uri": "https://localhost:8080/"
        },
        "id": "uwxY9HmHuoLv",
        "outputId": "23303d32-52fb-468d-a402-1875927e70eb"
      },
      "outputs": [
        {
          "data": {
            "text/plain": [
              "tensor([[[1],\n",
              "         [2]],\n",
              "\n",
              "        [[3],\n",
              "         [4]],\n",
              "\n",
              "        [[5],\n",
              "         [6]]])"
            ]
          },
          "execution_count": 10,
          "metadata": {},
          "output_type": "execute_result"
        }
      ],
      "source": [
        "some_tensor_from_numpy2 = torch.tensor(some_numpy_array)\n",
        "\n",
        "some_tensor_from_numpy2"
      ]
    },
    {
      "cell_type": "markdown",
      "metadata": {
        "id": "FqB0qStvEHLt"
      },
      "source": [
        "При этом если мы создаем тензор из numpy массива с помощью `torch.from_numpy`, то они делят между собой память, где лежат их данные и, соответственно, при изменении тензора меняется numpy массив и наоборот:"
      ]
    },
    {
      "cell_type": "code",
      "execution_count": 11,
      "metadata": {
        "colab": {
          "base_uri": "https://localhost:8080/"
        },
        "execution": {
          "iopub.execute_input": "2023-10-02T11:57:04.501575Z",
          "iopub.status.busy": "2023-10-02T11:57:04.501370Z",
          "iopub.status.idle": "2023-10-02T11:57:04.521385Z",
          "shell.execute_reply": "2023-10-02T11:57:04.521117Z",
          "shell.execute_reply.started": "2023-10-02T11:57:04.501560Z"
        },
        "id": "ppMobFUIEHLt",
        "outputId": "3564b652-cc5b-4db0-d747-31e2e91506d6"
      },
      "outputs": [
        {
          "data": {
            "text/plain": [
              "(array([1., 1., 1., 1., 1., 1., 1., 1., 1., 1.]),\n",
              " tensor([1., 1., 1., 1., 1., 1., 1., 1., 1., 1.], dtype=torch.float64))"
            ]
          },
          "execution_count": 11,
          "metadata": {},
          "output_type": "execute_result"
        }
      ],
      "source": [
        "x = np.ones(10)\n",
        "y = torch.from_numpy(x)\n",
        "\n",
        "x, y"
      ]
    },
    {
      "cell_type": "code",
      "execution_count": 12,
      "metadata": {
        "colab": {
          "base_uri": "https://localhost:8080/"
        },
        "execution": {
          "iopub.execute_input": "2023-10-02T11:57:14.086150Z",
          "iopub.status.busy": "2023-10-02T11:57:14.085961Z",
          "iopub.status.idle": "2023-10-02T11:57:14.089895Z",
          "shell.execute_reply": "2023-10-02T11:57:14.089606Z",
          "shell.execute_reply.started": "2023-10-02T11:57:14.086136Z"
        },
        "id": "5vDTu1nNEHLu",
        "outputId": "5c537bf7-f933-4dec-be06-e3e0181c07d7"
      },
      "outputs": [
        {
          "data": {
            "text/plain": [
              "(array([2., 2., 2., 2., 2., 2., 2., 2., 2., 2.]),\n",
              " tensor([2., 2., 2., 2., 2., 2., 2., 2., 2., 2.], dtype=torch.float64))"
            ]
          },
          "execution_count": 12,
          "metadata": {},
          "output_type": "execute_result"
        }
      ],
      "source": [
        "x += 1\n",
        "\n",
        "x, y"
      ]
    },
    {
      "cell_type": "code",
      "execution_count": 13,
      "metadata": {
        "colab": {
          "base_uri": "https://localhost:8080/"
        },
        "execution": {
          "iopub.execute_input": "2023-10-02T11:57:21.839867Z",
          "iopub.status.busy": "2023-10-02T11:57:21.839634Z",
          "iopub.status.idle": "2023-10-02T11:57:21.852919Z",
          "shell.execute_reply": "2023-10-02T11:57:21.852631Z",
          "shell.execute_reply.started": "2023-10-02T11:57:21.839849Z"
        },
        "id": "-6uCRv7ZEHLu",
        "outputId": "04cc6b2e-23e2-4275-e9d7-ceee4ed5236a"
      },
      "outputs": [
        {
          "data": {
            "text/plain": [
              "(tensor([1., 1., 1., 1., 1., 1., 1., 1., 1., 1.]),\n",
              " array([1., 1., 1., 1., 1., 1., 1., 1., 1., 1.], dtype=float32))"
            ]
          },
          "execution_count": 13,
          "metadata": {},
          "output_type": "execute_result"
        }
      ],
      "source": [
        "x = torch.ones(10)\n",
        "y = x.numpy()\n",
        "\n",
        "x, y"
      ]
    },
    {
      "cell_type": "code",
      "execution_count": 14,
      "metadata": {
        "colab": {
          "base_uri": "https://localhost:8080/"
        },
        "execution": {
          "iopub.execute_input": "2023-10-02T11:57:22.639409Z",
          "iopub.status.busy": "2023-10-02T11:57:22.639171Z",
          "iopub.status.idle": "2023-10-02T11:57:22.651084Z",
          "shell.execute_reply": "2023-10-02T11:57:22.650693Z",
          "shell.execute_reply.started": "2023-10-02T11:57:22.639390Z"
        },
        "id": "Ha6wO6tsEHLu",
        "outputId": "6254e86c-826d-4ff7-9344-9d91c1f4accc"
      },
      "outputs": [
        {
          "data": {
            "text/plain": [
              "(tensor([2., 2., 2., 2., 2., 2., 2., 2., 2., 2.]),\n",
              " array([2., 2., 2., 2., 2., 2., 2., 2., 2., 2.], dtype=float32))"
            ]
          },
          "execution_count": 14,
          "metadata": {},
          "output_type": "execute_result"
        }
      ],
      "source": [
        "x += 1\n",
        "\n",
        "x, y"
      ]
    },
    {
      "cell_type": "markdown",
      "metadata": {
        "id": "JSXr0ndfEHLv"
      },
      "source": [
        "Можем создать тензор со случайными или константными значениями:"
      ]
    },
    {
      "cell_type": "code",
      "execution_count": 15,
      "metadata": {
        "colab": {
          "base_uri": "https://localhost:8080/"
        },
        "execution": {
          "iopub.execute_input": "2023-10-02T11:57:50.752464Z",
          "iopub.status.busy": "2023-10-02T11:57:50.752232Z",
          "iopub.status.idle": "2023-10-02T11:57:50.766002Z",
          "shell.execute_reply": "2023-10-02T11:57:50.765738Z",
          "shell.execute_reply.started": "2023-10-02T11:57:50.752446Z"
        },
        "id": "sbPhAPx9EHLv",
        "outputId": "4143b2d2-8a5a-457b-b586-b0b587ef3e64"
      },
      "outputs": [
        {
          "data": {
            "text/plain": [
              "(tensor([[0.5020, 0.8882, 0.2101],\n",
              "         [0.0626, 0.2358, 0.5213]]),\n",
              " tensor([[1., 1., 1.],\n",
              "         [1., 1., 1.]]),\n",
              " tensor([[0., 0., 0.],\n",
              "         [0., 0., 0.]]),\n",
              " tensor([[ 1.2001e-04,  4.4989e-41, -6.1817e+14],\n",
              "         [ 3.1176e-41, -6.1859e+14,  3.1176e-41]]))"
            ]
          },
          "execution_count": 15,
          "metadata": {},
          "output_type": "execute_result"
        }
      ],
      "source": [
        "shape = (2, 3)\n",
        "\n",
        "random_tensor = torch.rand(shape)\n",
        "ones_tensor = torch.ones(shape)\n",
        "zeros_tensor = torch.zeros(shape)\n",
        "empty_tensor = torch.empty(shape)\n",
        "\n",
        "random_tensor, ones_tensor, zeros_tensor, empty_tensor"
      ]
    },
    {
      "cell_type": "markdown",
      "metadata": {
        "id": "E8rLCec9EHLv"
      },
      "source": [
        "Теперь поговорим про размерности подробнее.\n",
        "\n",
        "У тензора есть какой-то размер, какая форма. Первое с чем нужно определиться, какой **размерности** тензор - количество осей у него."
      ]
    },
    {
      "cell_type": "code",
      "execution_count": 16,
      "metadata": {
        "colab": {
          "base_uri": "https://localhost:8080/"
        },
        "execution": {
          "iopub.execute_input": "2023-10-02T11:58:19.235150Z",
          "iopub.status.busy": "2023-10-02T11:58:19.234923Z",
          "iopub.status.idle": "2023-10-02T11:58:19.238614Z",
          "shell.execute_reply": "2023-10-02T11:58:19.238319Z",
          "shell.execute_reply.started": "2023-10-02T11:58:19.235132Z"
        },
        "id": "VdgQwBBdEHLv",
        "outputId": "3117c464-313c-4b46-ff8f-057bb06406b2"
      },
      "outputs": [
        {
          "data": {
            "text/plain": [
              "tensor([0.0033, 0.5675, 0.8995, 0.0419, 0.3169, 0.1768, 0.2560, 0.4512, 0.8170,\n",
              "        0.2204])"
            ]
          },
          "execution_count": 16,
          "metadata": {},
          "output_type": "execute_result"
        }
      ],
      "source": [
        "shape = (10)  # одна ось (вектор)\n",
        "\n",
        "tensor = torch.rand(shape)\n",
        "\n",
        "tensor"
      ]
    },
    {
      "cell_type": "code",
      "execution_count": 17,
      "metadata": {
        "colab": {
          "base_uri": "https://localhost:8080/"
        },
        "execution": {
          "iopub.execute_input": "2023-10-02T11:58:27.852736Z",
          "iopub.status.busy": "2023-10-02T11:58:27.852552Z",
          "iopub.status.idle": "2023-10-02T11:58:27.856290Z",
          "shell.execute_reply": "2023-10-02T11:58:27.856001Z",
          "shell.execute_reply.started": "2023-10-02T11:58:27.852722Z"
        },
        "id": "CNpgtn1kEHLv",
        "outputId": "f469c1e9-7598-4a42-ab5b-0c5421a56f99"
      },
      "outputs": [
        {
          "data": {
            "text/plain": [
              "tensor([[0.4938, 0.6996, 0.9689],\n",
              "        [0.9603, 0.9975, 0.8375]])"
            ]
          },
          "execution_count": 17,
          "metadata": {},
          "output_type": "execute_result"
        }
      ],
      "source": [
        "shape = (2, 3)  # две оси (матрица)\n",
        "\n",
        "tensor = torch.rand(shape)\n",
        "\n",
        "tensor"
      ]
    },
    {
      "cell_type": "code",
      "execution_count": 18,
      "metadata": {
        "colab": {
          "base_uri": "https://localhost:8080/"
        },
        "execution": {
          "iopub.execute_input": "2023-10-02T11:58:48.183103Z",
          "iopub.status.busy": "2023-10-02T11:58:48.182919Z",
          "iopub.status.idle": "2023-10-02T11:58:48.186731Z",
          "shell.execute_reply": "2023-10-02T11:58:48.186436Z",
          "shell.execute_reply.started": "2023-10-02T11:58:48.183089Z"
        },
        "id": "OS5NzDmIEHLw",
        "outputId": "e21343e0-060a-4b71-be9f-6fe7e2dca581"
      },
      "outputs": [
        {
          "data": {
            "text/plain": [
              "tensor([[[0.5139, 0.2007, 0.8991],\n",
              "         [0.9445, 0.0232, 0.5738]],\n",
              "\n",
              "        [[0.6175, 0.8387, 0.8256],\n",
              "         [0.6243, 0.2484, 0.8213]],\n",
              "\n",
              "        [[0.5021, 0.1831, 0.5802],\n",
              "         [0.6937, 0.9354, 0.1661]]])"
            ]
          },
          "execution_count": 18,
          "metadata": {},
          "output_type": "execute_result"
        }
      ],
      "source": [
        "shape = (3, 2, 3)  # три оси (и больше - тензор)\n",
        "\n",
        "tensor = torch.rand(shape)\n",
        "\n",
        "tensor"
      ]
    },
    {
      "cell_type": "markdown",
      "metadata": {
        "id": "NXKORf-nEHLw"
      },
      "source": [
        "Тензор с размерностью 1 - это просто вектор, список чисел.\n",
        "\n",
        "Тензор с размерностью 2 - это просто матрица, то есть список списков чисел.\n",
        "\n",
        "Тензор с размерностью 3 и больше - это тензор, то есть список списков списков ... чисел."
      ]
    },
    {
      "cell_type": "markdown",
      "metadata": {
        "id": "lWYhZV41EHLw"
      },
      "source": [
        "Получить доступ к размеру уже созданного тензора - метод `.shape`:"
      ]
    },
    {
      "cell_type": "code",
      "execution_count": 19,
      "metadata": {
        "colab": {
          "base_uri": "https://localhost:8080/"
        },
        "execution": {
          "iopub.execute_input": "2023-10-02T11:58:56.935724Z",
          "iopub.status.busy": "2023-10-02T11:58:56.935534Z",
          "iopub.status.idle": "2023-10-02T11:58:56.938989Z",
          "shell.execute_reply": "2023-10-02T11:58:56.938682Z",
          "shell.execute_reply.started": "2023-10-02T11:58:56.935710Z"
        },
        "id": "N1AkVxvhEHLw",
        "outputId": "ea8cf2bd-dcb5-4d21-945f-65dd9d5bda06"
      },
      "outputs": [
        {
          "name": "stdout",
          "output_type": "stream",
          "text": [
            "tensor([[[1],\n",
            "         [2]],\n",
            "\n",
            "        [[3],\n",
            "         [4]],\n",
            "\n",
            "        [[5],\n",
            "         [6]]])\n",
            "torch.Size([3, 2, 1])\n"
          ]
        }
      ],
      "source": [
        "some_data = [[[1], [2]], [[3], [4]], [[5], [6]]]\n",
        "some_tensor = torch.tensor(some_data)\n",
        "\n",
        "print(some_tensor)\n",
        "print(some_tensor.shape)"
      ]
    },
    {
      "cell_type": "markdown",
      "metadata": {
        "id": "K0krjZkxEHLw"
      },
      "source": [
        "Давайте сделаем тензор, который будет нам имитировать изображение - сделаем его размер `(c, h, w)`, где `h` и `w` это его высота и ширина, а `c` - число каналов в цветовом пространстве (в черно-белом 1, в RGB 3):"
      ]
    },
    {
      "cell_type": "code",
      "execution_count": 20,
      "metadata": {
        "colab": {
          "base_uri": "https://localhost:8080/"
        },
        "execution": {
          "iopub.execute_input": "2023-10-02T12:01:51.132135Z",
          "iopub.status.busy": "2023-10-02T12:01:51.131902Z",
          "iopub.status.idle": "2023-10-02T12:01:51.137556Z",
          "shell.execute_reply": "2023-10-02T12:01:51.137262Z",
          "shell.execute_reply.started": "2023-10-02T12:01:51.132117Z"
        },
        "id": "Ylzf1rwWEHLx",
        "outputId": "5989f5ad-f00c-41d8-cf2a-acb73af772ac"
      },
      "outputs": [
        {
          "data": {
            "text/plain": [
              "tensor([[[0.2714, 0.3942, 0.6024, 0.1984, 0.3336, 0.9298, 0.6804, 0.3182,\n",
              "          0.9971, 0.9165, 0.9516, 0.7354, 0.8254, 0.8935, 0.7312, 0.5043],\n",
              "         [0.9521, 0.9171, 0.1355, 0.0163, 0.8630, 0.5652, 0.7886, 0.8597,\n",
              "          0.5496, 0.9999, 0.2493, 0.4236, 0.0227, 0.1431, 0.2521, 0.7201],\n",
              "         [0.9904, 0.1542, 0.8009, 0.4985, 0.4986, 0.8771, 0.7393, 0.6964,\n",
              "          0.4834, 0.2854, 0.2868, 0.5420, 0.1837, 0.8382, 0.0535, 0.7384],\n",
              "         [0.3735, 0.2536, 0.7488, 0.2254, 0.5757, 0.3942, 0.1603, 0.7055,\n",
              "          0.8470, 0.0148, 0.3477, 0.1777, 0.9720, 0.6953, 0.5521, 0.0586],\n",
              "         [0.7047, 0.3783, 0.1608, 0.6760, 0.1270, 0.5314, 0.8061, 0.2268,\n",
              "          0.1670, 0.0758, 0.4903, 0.8417, 0.3904, 0.2749, 0.6775, 0.7217],\n",
              "         [0.7776, 0.1444, 0.4043, 0.4616, 0.5232, 0.1534, 0.9069, 0.0823,\n",
              "          0.7387, 0.4801, 0.5650, 0.2816, 0.3545, 0.5296, 0.8346, 0.4302],\n",
              "         [0.7769, 0.2256, 0.7087, 0.8330, 0.8943, 0.6731, 0.8971, 0.1354,\n",
              "          0.7379, 0.4605, 0.8936, 0.5584, 0.6813, 0.4227, 0.1282, 0.0280],\n",
              "         [0.9077, 0.9047, 0.8747, 0.5680, 0.1342, 0.5292, 0.0663, 0.8026,\n",
              "          0.7209, 0.4208, 0.5346, 0.4748, 0.1920, 0.7049, 0.0330, 0.4358],\n",
              "         [0.9726, 0.4397, 0.3853, 0.5348, 0.3369, 0.2611, 0.0714, 0.4806,\n",
              "          0.9734, 0.3675, 0.4826, 0.6012, 0.5980, 0.6202, 0.4021, 0.7216]],\n",
              "\n",
              "        [[0.4741, 0.5219, 0.5560, 0.7787, 0.1556, 0.4212, 0.0592, 0.2925,\n",
              "          0.7118, 0.1329, 0.7464, 0.9904, 0.5304, 0.4198, 0.8457, 0.3882],\n",
              "         [0.3782, 0.7480, 0.5736, 0.7992, 0.2637, 0.5917, 0.9027, 0.1355,\n",
              "          0.4387, 0.3337, 0.5408, 0.5993, 0.7900, 0.0781, 0.8647, 0.6558],\n",
              "         [0.9801, 0.2472, 0.0669, 0.8545, 0.8435, 0.7209, 0.2252, 0.1007,\n",
              "          0.0589, 0.3173, 0.2615, 0.3881, 0.1730, 0.6520, 0.2269, 0.4592],\n",
              "         [0.4741, 0.9852, 0.5551, 0.6101, 0.5154, 0.5395, 0.1755, 0.1720,\n",
              "          0.6330, 0.3839, 0.4827, 0.0167, 0.6015, 0.2644, 0.3864, 0.6302],\n",
              "         [0.8406, 0.7358, 0.7219, 0.0710, 0.4595, 0.7604, 0.2019, 0.9901,\n",
              "          0.6078, 0.6775, 0.2159, 0.4996, 0.3300, 0.1940, 0.5307, 0.5264],\n",
              "         [0.6881, 0.5579, 0.1880, 0.7328, 0.2063, 0.3377, 0.8419, 0.5556,\n",
              "          0.1236, 0.1138, 0.9738, 0.5438, 0.8757, 0.0146, 0.0028, 0.5457],\n",
              "         [0.0838, 0.1175, 0.8159, 0.8184, 0.2870, 0.7825, 0.0730, 0.3268,\n",
              "          0.2931, 0.9319, 0.1210, 0.4004, 0.4678, 0.5916, 0.5607, 0.5008],\n",
              "         [0.6432, 0.1035, 0.1774, 0.5035, 0.7734, 0.9411, 0.4080, 0.6894,\n",
              "          0.2338, 0.4887, 0.6443, 0.6012, 0.7823, 0.8993, 0.5736, 0.3552],\n",
              "         [0.7164, 0.8074, 0.4485, 0.5724, 0.5403, 0.0426, 0.4269, 0.3726,\n",
              "          0.7616, 0.3541, 0.6657, 0.8892, 0.6026, 0.5962, 0.4568, 0.2744]],\n",
              "\n",
              "        [[0.8764, 0.1817, 0.6372, 0.2236, 0.0789, 0.6129, 0.7215, 0.2152,\n",
              "          0.0176, 0.3540, 0.7198, 0.7566, 0.6972, 0.8651, 0.4010, 0.9752],\n",
              "         [0.9659, 0.8588, 0.7551, 0.6820, 0.6568, 0.6922, 0.9182, 0.1156,\n",
              "          0.0543, 0.1877, 0.9730, 0.9252, 0.3738, 0.1020, 0.5880, 0.3969],\n",
              "         [0.5884, 0.2822, 0.3550, 0.3287, 0.3872, 0.9543, 0.5485, 0.5381,\n",
              "          0.7263, 0.3020, 0.5446, 0.1848, 0.7333, 0.7503, 0.2290, 0.0549],\n",
              "         [0.4788, 0.3165, 0.4840, 0.1143, 0.0908, 0.6526, 0.8697, 0.6149,\n",
              "          0.3091, 0.1566, 0.3399, 0.0468, 0.5321, 0.8903, 0.2249, 0.2721],\n",
              "         [0.7386, 0.4798, 0.5093, 0.0454, 0.7615, 0.3313, 0.3114, 0.8696,\n",
              "          0.8201, 0.4429, 0.3760, 0.1516, 0.9647, 0.5699, 0.3540, 0.8602],\n",
              "         [0.0762, 0.5788, 0.8091, 0.5014, 0.5972, 0.1879, 0.2540, 0.5189,\n",
              "          0.8066, 0.9704, 0.6006, 0.2638, 0.8691, 0.2734, 0.7868, 0.8921],\n",
              "         [0.3780, 0.1985, 0.4639, 0.6067, 0.9898, 0.5199, 0.9371, 0.3979,\n",
              "          0.3825, 0.0020, 0.8546, 0.6484, 0.5518, 0.5336, 0.1725, 0.4172],\n",
              "         [0.2623, 0.9624, 0.0176, 0.0024, 0.4174, 0.8929, 0.5939, 0.3948,\n",
              "          0.3271, 0.4545, 0.8484, 0.2111, 0.6295, 0.0963, 0.7866, 0.6320],\n",
              "         [0.5479, 0.7549, 0.9378, 0.2499, 0.1269, 0.9209, 0.3984, 0.8452,\n",
              "          0.2598, 0.5056, 0.0311, 0.4522, 0.2529, 0.2976, 0.1968, 0.1109]]])"
            ]
          },
          "execution_count": 20,
          "metadata": {},
          "output_type": "execute_result"
        }
      ],
      "source": [
        "h = 9\n",
        "w = 16\n",
        "c = 3\n",
        "\n",
        "shape = (c, h, w)\n",
        "\n",
        "image_tensor = torch.rand(shape)\n",
        "\n",
        "image_tensor"
      ]
    },
    {
      "cell_type": "code",
      "execution_count": 21,
      "metadata": {
        "colab": {
          "base_uri": "https://localhost:8080/"
        },
        "execution": {
          "iopub.execute_input": "2023-10-02T12:02:14.862760Z",
          "iopub.status.busy": "2023-10-02T12:02:14.862530Z",
          "iopub.status.idle": "2023-10-02T12:02:14.865853Z",
          "shell.execute_reply": "2023-10-02T12:02:14.865565Z",
          "shell.execute_reply.started": "2023-10-02T12:02:14.862742Z"
        },
        "id": "qjL_43XMEHLx",
        "outputId": "47dd2eaf-9553-4d89-92de-27454f2c92bc"
      },
      "outputs": [
        {
          "data": {
            "text/plain": [
              "torch.Size([3, 9, 16])"
            ]
          },
          "execution_count": 21,
          "metadata": {},
          "output_type": "execute_result"
        }
      ],
      "source": [
        "image_tensor.shape"
      ]
    },
    {
      "cell_type": "markdown",
      "metadata": {
        "id": "1-OLBSvbEHLx"
      },
      "source": [
        "Можем попробовать поменять размер тензора, например, [вытянуть его в вектор](https://pytorch.org/docs/stable/generated/torch.ravel.html):"
      ]
    },
    {
      "cell_type": "code",
      "execution_count": 22,
      "metadata": {
        "colab": {
          "base_uri": "https://localhost:8080/"
        },
        "execution": {
          "iopub.execute_input": "2023-10-02T12:02:32.931448Z",
          "iopub.status.busy": "2023-10-02T12:02:32.931245Z",
          "iopub.status.idle": "2023-10-02T12:02:32.936314Z",
          "shell.execute_reply": "2023-10-02T12:02:32.936027Z",
          "shell.execute_reply.started": "2023-10-02T12:02:32.931430Z"
        },
        "id": "ZurmMAU2EHLx",
        "outputId": "34e3fe7b-3853-4c64-97c8-cba1aa1ad339"
      },
      "outputs": [
        {
          "data": {
            "text/plain": [
              "tensor([0.2714, 0.3942, 0.6024, 0.1984, 0.3336, 0.9298, 0.6804, 0.3182, 0.9971,\n",
              "        0.9165, 0.9516, 0.7354, 0.8254, 0.8935, 0.7312, 0.5043, 0.9521, 0.9171,\n",
              "        0.1355, 0.0163, 0.8630, 0.5652, 0.7886, 0.8597, 0.5496, 0.9999, 0.2493,\n",
              "        0.4236, 0.0227, 0.1431, 0.2521, 0.7201, 0.9904, 0.1542, 0.8009, 0.4985,\n",
              "        0.4986, 0.8771, 0.7393, 0.6964, 0.4834, 0.2854, 0.2868, 0.5420, 0.1837,\n",
              "        0.8382, 0.0535, 0.7384, 0.3735, 0.2536, 0.7488, 0.2254, 0.5757, 0.3942,\n",
              "        0.1603, 0.7055, 0.8470, 0.0148, 0.3477, 0.1777, 0.9720, 0.6953, 0.5521,\n",
              "        0.0586, 0.7047, 0.3783, 0.1608, 0.6760, 0.1270, 0.5314, 0.8061, 0.2268,\n",
              "        0.1670, 0.0758, 0.4903, 0.8417, 0.3904, 0.2749, 0.6775, 0.7217, 0.7776,\n",
              "        0.1444, 0.4043, 0.4616, 0.5232, 0.1534, 0.9069, 0.0823, 0.7387, 0.4801,\n",
              "        0.5650, 0.2816, 0.3545, 0.5296, 0.8346, 0.4302, 0.7769, 0.2256, 0.7087,\n",
              "        0.8330, 0.8943, 0.6731, 0.8971, 0.1354, 0.7379, 0.4605, 0.8936, 0.5584,\n",
              "        0.6813, 0.4227, 0.1282, 0.0280, 0.9077, 0.9047, 0.8747, 0.5680, 0.1342,\n",
              "        0.5292, 0.0663, 0.8026, 0.7209, 0.4208, 0.5346, 0.4748, 0.1920, 0.7049,\n",
              "        0.0330, 0.4358, 0.9726, 0.4397, 0.3853, 0.5348, 0.3369, 0.2611, 0.0714,\n",
              "        0.4806, 0.9734, 0.3675, 0.4826, 0.6012, 0.5980, 0.6202, 0.4021, 0.7216,\n",
              "        0.4741, 0.5219, 0.5560, 0.7787, 0.1556, 0.4212, 0.0592, 0.2925, 0.7118,\n",
              "        0.1329, 0.7464, 0.9904, 0.5304, 0.4198, 0.8457, 0.3882, 0.3782, 0.7480,\n",
              "        0.5736, 0.7992, 0.2637, 0.5917, 0.9027, 0.1355, 0.4387, 0.3337, 0.5408,\n",
              "        0.5993, 0.7900, 0.0781, 0.8647, 0.6558, 0.9801, 0.2472, 0.0669, 0.8545,\n",
              "        0.8435, 0.7209, 0.2252, 0.1007, 0.0589, 0.3173, 0.2615, 0.3881, 0.1730,\n",
              "        0.6520, 0.2269, 0.4592, 0.4741, 0.9852, 0.5551, 0.6101, 0.5154, 0.5395,\n",
              "        0.1755, 0.1720, 0.6330, 0.3839, 0.4827, 0.0167, 0.6015, 0.2644, 0.3864,\n",
              "        0.6302, 0.8406, 0.7358, 0.7219, 0.0710, 0.4595, 0.7604, 0.2019, 0.9901,\n",
              "        0.6078, 0.6775, 0.2159, 0.4996, 0.3300, 0.1940, 0.5307, 0.5264, 0.6881,\n",
              "        0.5579, 0.1880, 0.7328, 0.2063, 0.3377, 0.8419, 0.5556, 0.1236, 0.1138,\n",
              "        0.9738, 0.5438, 0.8757, 0.0146, 0.0028, 0.5457, 0.0838, 0.1175, 0.8159,\n",
              "        0.8184, 0.2870, 0.7825, 0.0730, 0.3268, 0.2931, 0.9319, 0.1210, 0.4004,\n",
              "        0.4678, 0.5916, 0.5607, 0.5008, 0.6432, 0.1035, 0.1774, 0.5035, 0.7734,\n",
              "        0.9411, 0.4080, 0.6894, 0.2338, 0.4887, 0.6443, 0.6012, 0.7823, 0.8993,\n",
              "        0.5736, 0.3552, 0.7164, 0.8074, 0.4485, 0.5724, 0.5403, 0.0426, 0.4269,\n",
              "        0.3726, 0.7616, 0.3541, 0.6657, 0.8892, 0.6026, 0.5962, 0.4568, 0.2744,\n",
              "        0.8764, 0.1817, 0.6372, 0.2236, 0.0789, 0.6129, 0.7215, 0.2152, 0.0176,\n",
              "        0.3540, 0.7198, 0.7566, 0.6972, 0.8651, 0.4010, 0.9752, 0.9659, 0.8588,\n",
              "        0.7551, 0.6820, 0.6568, 0.6922, 0.9182, 0.1156, 0.0543, 0.1877, 0.9730,\n",
              "        0.9252, 0.3738, 0.1020, 0.5880, 0.3969, 0.5884, 0.2822, 0.3550, 0.3287,\n",
              "        0.3872, 0.9543, 0.5485, 0.5381, 0.7263, 0.3020, 0.5446, 0.1848, 0.7333,\n",
              "        0.7503, 0.2290, 0.0549, 0.4788, 0.3165, 0.4840, 0.1143, 0.0908, 0.6526,\n",
              "        0.8697, 0.6149, 0.3091, 0.1566, 0.3399, 0.0468, 0.5321, 0.8903, 0.2249,\n",
              "        0.2721, 0.7386, 0.4798, 0.5093, 0.0454, 0.7615, 0.3313, 0.3114, 0.8696,\n",
              "        0.8201, 0.4429, 0.3760, 0.1516, 0.9647, 0.5699, 0.3540, 0.8602, 0.0762,\n",
              "        0.5788, 0.8091, 0.5014, 0.5972, 0.1879, 0.2540, 0.5189, 0.8066, 0.9704,\n",
              "        0.6006, 0.2638, 0.8691, 0.2734, 0.7868, 0.8921, 0.3780, 0.1985, 0.4639,\n",
              "        0.6067, 0.9898, 0.5199, 0.9371, 0.3979, 0.3825, 0.0020, 0.8546, 0.6484,\n",
              "        0.5518, 0.5336, 0.1725, 0.4172, 0.2623, 0.9624, 0.0176, 0.0024, 0.4174,\n",
              "        0.8929, 0.5939, 0.3948, 0.3271, 0.4545, 0.8484, 0.2111, 0.6295, 0.0963,\n",
              "        0.7866, 0.6320, 0.5479, 0.7549, 0.9378, 0.2499, 0.1269, 0.9209, 0.3984,\n",
              "        0.8452, 0.2598, 0.5056, 0.0311, 0.4522, 0.2529, 0.2976, 0.1968, 0.1109])"
            ]
          },
          "execution_count": 22,
          "metadata": {},
          "output_type": "execute_result"
        }
      ],
      "source": [
        "image_tensor.flatten()"
      ]
    },
    {
      "cell_type": "code",
      "execution_count": 23,
      "metadata": {
        "colab": {
          "base_uri": "https://localhost:8080/"
        },
        "execution": {
          "iopub.execute_input": "2023-10-02T12:02:58.235015Z",
          "iopub.status.busy": "2023-10-02T12:02:58.234830Z",
          "iopub.status.idle": "2023-10-02T12:02:58.237902Z",
          "shell.execute_reply": "2023-10-02T12:02:58.237618Z",
          "shell.execute_reply.started": "2023-10-02T12:02:58.235001Z"
        },
        "id": "uuBSG9WPEHLy",
        "outputId": "457e6656-8dbe-4f04-ed27-12a5cc51d4a4"
      },
      "outputs": [
        {
          "data": {
            "text/plain": [
              "torch.Size([432])"
            ]
          },
          "execution_count": 23,
          "metadata": {},
          "output_type": "execute_result"
        }
      ],
      "source": [
        "image_tensor.ravel().shape"
      ]
    },
    {
      "cell_type": "code",
      "execution_count": null,
      "metadata": {
        "colab": {
          "base_uri": "https://localhost:8080/"
        },
        "execution": {
          "iopub.execute_input": "2023-10-02T12:02:58.843267Z",
          "iopub.status.busy": "2023-10-02T12:02:58.843067Z",
          "iopub.status.idle": "2023-10-02T12:02:58.845949Z",
          "shell.execute_reply": "2023-10-02T12:02:58.845663Z",
          "shell.execute_reply.started": "2023-10-02T12:02:58.843253Z"
        },
        "id": "uq-BtzNMEHL3",
        "outputId": "d6853526-7076-4e0c-8465-565112bbbb00"
      },
      "outputs": [
        {
          "data": {
            "text/plain": [
              "432"
            ]
          },
          "execution_count": 21,
          "metadata": {},
          "output_type": "execute_result"
        }
      ],
      "source": [
        "h * w * c"
      ]
    },
    {
      "cell_type": "markdown",
      "metadata": {
        "id": "nHeh-ZOlEHL4"
      },
      "source": [
        "Посчитаем количество элементов в тензоре с помощью [специальной функции](https://pytorch.org/docs/stable/generated/torch.numel.html):"
      ]
    },
    {
      "cell_type": "code",
      "execution_count": 24,
      "metadata": {
        "colab": {
          "base_uri": "https://localhost:8080/"
        },
        "execution": {
          "iopub.execute_input": "2023-10-02T12:05:15.304456Z",
          "iopub.status.busy": "2023-10-02T12:05:15.304269Z",
          "iopub.status.idle": "2023-10-02T12:05:15.307064Z",
          "shell.execute_reply": "2023-10-02T12:05:15.306761Z",
          "shell.execute_reply.started": "2023-10-02T12:05:15.304442Z"
        },
        "id": "gKomvawuEHL4",
        "outputId": "f3dede3e-1d74-4d58-d22f-db96a35cc3ed"
      },
      "outputs": [
        {
          "data": {
            "text/plain": [
              "432"
            ]
          },
          "execution_count": 24,
          "metadata": {},
          "output_type": "execute_result"
        }
      ],
      "source": [
        "image_tensor.numel()"
      ]
    },
    {
      "cell_type": "code",
      "execution_count": 26,
      "metadata": {
        "colab": {
          "base_uri": "https://localhost:8080/"
        },
        "execution": {
          "iopub.execute_input": "2023-10-02T12:05:20.484247Z",
          "iopub.status.busy": "2023-10-02T12:05:20.484062Z",
          "iopub.status.idle": "2023-10-02T12:05:20.487975Z",
          "shell.execute_reply": "2023-10-02T12:05:20.487683Z",
          "shell.execute_reply.started": "2023-10-02T12:05:20.484234Z"
        },
        "id": "LeJH37beEHL4",
        "outputId": "a8a06ec1-c2fc-4dfa-d672-f118ebc85a38"
      },
      "outputs": [
        {
          "data": {
            "text/plain": [
              "tensor([[[0.4387, 0.1270, 0.2344],\n",
              "         [0.6434, 0.9684, 0.0746]],\n",
              "\n",
              "        [[0.3619, 0.8208, 0.4429],\n",
              "         [0.6603, 0.1609, 0.0431]],\n",
              "\n",
              "        [[0.6922, 0.1262, 0.0545],\n",
              "         [0.6789, 0.4641, 0.8964]]])"
            ]
          },
          "execution_count": 26,
          "metadata": {},
          "output_type": "execute_result"
        }
      ],
      "source": [
        "h = 2\n",
        "w = 3\n",
        "c = 3\n",
        "\n",
        "shape = (c, h, w)\n",
        "\n",
        "image_tensor = torch.rand(shape)\n",
        "\n",
        "image_tensor"
      ]
    },
    {
      "cell_type": "markdown",
      "metadata": {
        "id": "GoG8-P-cEHL4"
      },
      "source": [
        "Попробуем поменять размер с помощью функции [reshape](https://pytorch.org/docs/stable/generated/torch.reshape.html#torch.reshape):"
      ]
    },
    {
      "cell_type": "code",
      "execution_count": 28,
      "metadata": {
        "colab": {
          "base_uri": "https://localhost:8080/"
        },
        "execution": {
          "iopub.execute_input": "2023-10-02T12:05:36.008796Z",
          "iopub.status.busy": "2023-10-02T12:05:36.008562Z",
          "iopub.status.idle": "2023-10-02T12:05:36.012410Z",
          "shell.execute_reply": "2023-10-02T12:05:36.012121Z",
          "shell.execute_reply.started": "2023-10-02T12:05:36.008777Z"
        },
        "id": "4ExGa23jEHL5",
        "outputId": "ab793b05-90eb-4f80-8db8-acd03d226b95"
      },
      "outputs": [
        {
          "data": {
            "text/plain": [
              "tensor([[0.4387, 0.1270, 0.2344, 0.6434, 0.9684, 0.0746],\n",
              "        [0.3619, 0.8208, 0.4429, 0.6603, 0.1609, 0.0431],\n",
              "        [0.6922, 0.1262, 0.0545, 0.6789, 0.4641, 0.8964]])"
            ]
          },
          "execution_count": 28,
          "metadata": {},
          "output_type": "execute_result"
        }
      ],
      "source": [
        "image_tensor.reshape(c, h * w)"
      ]
    },
    {
      "cell_type": "markdown",
      "metadata": {
        "id": "irOVGEIPEHL5"
      },
      "source": [
        "Попробуем собрать из нескольких тензоров один большой:\n",
        "\n",
        "[torch.cat](https://pytorch.org/docs/stable/generated/torch.cat.html#torch.cat)"
      ]
    },
    {
      "cell_type": "code",
      "execution_count": 46,
      "metadata": {
        "execution": {
          "iopub.execute_input": "2023-10-02T12:05:48.192603Z",
          "iopub.status.busy": "2023-10-02T12:05:48.192383Z",
          "iopub.status.idle": "2023-10-02T12:05:48.194748Z",
          "shell.execute_reply": "2023-10-02T12:05:48.194456Z",
          "shell.execute_reply.started": "2023-10-02T12:05:48.192589Z"
        },
        "id": "roq57oiJEHL5"
      },
      "outputs": [],
      "source": [
        "x = torch.randn(2, 3)"
      ]
    },
    {
      "cell_type": "code",
      "execution_count": 47,
      "metadata": {
        "colab": {
          "base_uri": "https://localhost:8080/"
        },
        "execution": {
          "iopub.execute_input": "2023-10-02T12:05:48.954624Z",
          "iopub.status.busy": "2023-10-02T12:05:48.954411Z",
          "iopub.status.idle": "2023-10-02T12:05:48.958023Z",
          "shell.execute_reply": "2023-10-02T12:05:48.957726Z",
          "shell.execute_reply.started": "2023-10-02T12:05:48.954606Z"
        },
        "id": "D4Ig7ZysEHL5",
        "outputId": "39f646cd-3245-4718-a32e-df2ca3770da3"
      },
      "outputs": [
        {
          "data": {
            "text/plain": [
              "tensor([[-1.0400, -0.4065,  0.0712],\n",
              "        [-1.8094,  0.7606,  0.4254]])"
            ]
          },
          "execution_count": 47,
          "metadata": {},
          "output_type": "execute_result"
        }
      ],
      "source": [
        "x"
      ]
    },
    {
      "cell_type": "code",
      "execution_count": 48,
      "metadata": {
        "colab": {
          "base_uri": "https://localhost:8080/"
        },
        "execution": {
          "iopub.execute_input": "2023-10-02T12:05:58.086548Z",
          "iopub.status.busy": "2023-10-02T12:05:58.086356Z",
          "iopub.status.idle": "2023-10-02T12:05:58.098312Z",
          "shell.execute_reply": "2023-10-02T12:05:58.097932Z",
          "shell.execute_reply.started": "2023-10-02T12:05:58.086535Z"
        },
        "id": "FlKXwAErEHL6",
        "outputId": "f040f2f0-a020-4ecb-f80e-4a329004fb88"
      },
      "outputs": [
        {
          "data": {
            "text/plain": [
              "tensor([[-1.0400, -0.4065,  0.0712],\n",
              "        [-1.8094,  0.7606,  0.4254],\n",
              "        [-1.0400, -0.4065,  0.0712],\n",
              "        [-1.8094,  0.7606,  0.4254],\n",
              "        [-1.0400, -0.4065,  0.0712],\n",
              "        [-1.8094,  0.7606,  0.4254]])"
            ]
          },
          "execution_count": 48,
          "metadata": {},
          "output_type": "execute_result"
        }
      ],
      "source": [
        "torch.cat((x, x, x), dim=0)"
      ]
    },
    {
      "cell_type": "code",
      "execution_count": 49,
      "metadata": {
        "colab": {
          "base_uri": "https://localhost:8080/"
        },
        "execution": {
          "iopub.execute_input": "2023-10-02T12:10:19.549750Z",
          "iopub.status.busy": "2023-10-02T12:10:19.549517Z",
          "iopub.status.idle": "2023-10-02T12:10:19.553217Z",
          "shell.execute_reply": "2023-10-02T12:10:19.552926Z",
          "shell.execute_reply.started": "2023-10-02T12:10:19.549732Z"
        },
        "id": "9JohcPghEHL6",
        "outputId": "fda7a353-5e69-4e85-88c0-4e5434bc3d35"
      },
      "outputs": [
        {
          "data": {
            "text/plain": [
              "torch.Size([4, 2, 3])"
            ]
          },
          "execution_count": 49,
          "metadata": {},
          "output_type": "execute_result"
        }
      ],
      "source": [
        "torch.stack((x, x, x, x), dim=0).shape"
      ]
    },
    {
      "cell_type": "code",
      "execution_count": 61,
      "metadata": {
        "colab": {
          "base_uri": "https://localhost:8080/"
        },
        "id": "wcahWjjWyXYY",
        "outputId": "664de94c-45ce-4c8d-92b0-ce84d4287095"
      },
      "outputs": [
        {
          "data": {
            "text/plain": [
              "torch.Size([2, 3])"
            ]
          },
          "execution_count": 61,
          "metadata": {},
          "output_type": "execute_result"
        }
      ],
      "source": [
        "x = torch.randn(2, 3)\n",
        "\n",
        "x.shape"
      ]
    },
    {
      "cell_type": "code",
      "execution_count": 62,
      "metadata": {
        "colab": {
          "base_uri": "https://localhost:8080/"
        },
        "execution": {
          "iopub.execute_input": "2023-10-02T12:11:57.132971Z",
          "iopub.status.busy": "2023-10-02T12:11:57.132783Z",
          "iopub.status.idle": "2023-10-02T12:11:57.135942Z",
          "shell.execute_reply": "2023-10-02T12:11:57.135656Z",
          "shell.execute_reply.started": "2023-10-02T12:11:57.132958Z"
        },
        "id": "qI1sNPawEHL6",
        "outputId": "d56aabfd-0627-44ec-e5e7-6461a7ec9c2d"
      },
      "outputs": [
        {
          "data": {
            "text/plain": [
              "torch.Size([1, 2, 3])"
            ]
          },
          "execution_count": 62,
          "metadata": {},
          "output_type": "execute_result"
        }
      ],
      "source": [
        "x.unsqueeze_(0).shape"
      ]
    },
    {
      "cell_type": "code",
      "execution_count": 64,
      "metadata": {
        "colab": {
          "base_uri": "https://localhost:8080/"
        },
        "execution": {
          "iopub.execute_input": "2023-10-02T12:06:11.911762Z",
          "iopub.status.busy": "2023-10-02T12:06:11.911572Z",
          "iopub.status.idle": "2023-10-02T12:06:11.916683Z",
          "shell.execute_reply": "2023-10-02T12:06:11.916389Z",
          "shell.execute_reply.started": "2023-10-02T12:06:11.911748Z"
        },
        "id": "xfm8bal5EHL6",
        "outputId": "12dee806-7c3a-4635-85c7-f32509f24c11"
      },
      "outputs": [
        {
          "name": "stdout",
          "output_type": "stream",
          "text": [
            "tensor([[[ 0.0693, -0.2600],\n",
            "         [-0.1902, -1.0753],\n",
            "         [ 0.0795, -1.7049]],\n",
            "\n",
            "        [[-0.2401, -0.4854],\n",
            "         [-0.2019,  0.2350],\n",
            "         [-0.0951, -1.2066]],\n",
            "\n",
            "        [[-0.4911, -0.0298],\n",
            "         [ 1.4034,  1.4224],\n",
            "         [ 1.4632, -1.0498]]])\n",
            "tensor([[[ 0.3150,  0.3492],\n",
            "         [-0.3393,  0.5618],\n",
            "         [-1.4872,  0.2026]],\n",
            "\n",
            "        [[ 0.4408,  0.9498],\n",
            "         [ 1.2430, -0.6430],\n",
            "         [ 0.9079, -1.2596]],\n",
            "\n",
            "        [[ 0.3355,  1.3064],\n",
            "         [ 0.2997,  0.8560],\n",
            "         [ 0.6259,  0.3693]],\n",
            "\n",
            "        [[ 0.1782, -2.0297],\n",
            "         [ 0.0241, -0.9646],\n",
            "         [ 0.1982, -1.1038]],\n",
            "\n",
            "        [[ 0.0034,  0.1950],\n",
            "         [-0.9092, -0.6835],\n",
            "         [-1.2932, -0.3836]]])\n",
            "tensor([[[-1.5554,  1.5635],\n",
            "         [ 1.1089,  0.4812],\n",
            "         [-1.1143, -0.8398]]])\n"
          ]
        },
        {
          "data": {
            "text/plain": [
              "torch.Size([9, 3, 2])"
            ]
          },
          "execution_count": 64,
          "metadata": {},
          "output_type": "execute_result"
        }
      ],
      "source": [
        "x = torch.randn(3, 3, 2)\n",
        "y = torch.randn(5, 3, 2)\n",
        "z = torch.randn(1, 3, 2)\n",
        "\n",
        "for tensor in [x, y, z]:\n",
        "    print(tensor)\n",
        "\n",
        "torch.cat((x, y, z), dim=0).shape"
      ]
    },
    {
      "cell_type": "code",
      "execution_count": 65,
      "metadata": {
        "colab": {
          "base_uri": "https://localhost:8080/"
        },
        "execution": {
          "iopub.execute_input": "2023-10-02T12:09:50.570067Z",
          "iopub.status.busy": "2023-10-02T12:09:50.569881Z",
          "iopub.status.idle": "2023-10-02T12:09:50.598751Z",
          "shell.execute_reply": "2023-10-02T12:09:50.598404Z",
          "shell.execute_reply.started": "2023-10-02T12:09:50.570049Z"
        },
        "id": "v54PON63EHL6",
        "outputId": "fa91ab64-aef4-48e3-b15f-c2580dca5fb1"
      },
      "outputs": [
        {
          "name": "stdout",
          "output_type": "stream",
          "text": [
            "tensor([[-0.2810,  0.2168, -0.3585],\n",
            "        [ 0.0260, -3.1892, -0.3808]])\n",
            "tensor([[-1.2021,  0.6363, -1.4840, -0.0327,  0.9261],\n",
            "        [ 1.8543,  0.6393,  1.2229,  1.6472,  0.8591]])\n",
            "tensor([[-1.0346],\n",
            "        [-0.0228]])\n"
          ]
        },
        {
          "data": {
            "text/plain": [
              "tensor([[[-0.2810,  0.2168, -0.3585],\n",
              "         [ 0.0260, -3.1892, -0.3808]],\n",
              "\n",
              "        [[-0.2810,  0.2168, -0.3585],\n",
              "         [ 0.0260, -3.1892, -0.3808]],\n",
              "\n",
              "        [[-0.2810,  0.2168, -0.3585],\n",
              "         [ 0.0260, -3.1892, -0.3808]]])"
            ]
          },
          "execution_count": 65,
          "metadata": {},
          "output_type": "execute_result"
        }
      ],
      "source": [
        "x = torch.randn(2, 3)\n",
        "y = torch.randn(2, 5)\n",
        "z = torch.randn(2, 1)\n",
        "\n",
        "for tensor in [x, y, z]:\n",
        "    print(tensor)\n",
        "\n",
        "torch.stack((x, x, x), dim=0)"
      ]
    },
    {
      "cell_type": "markdown",
      "metadata": {
        "id": "jNM1s1fYEHL7"
      },
      "source": [
        "Теперь добавим дополнительную ось:\n",
        "\n",
        "[torch.unsqueeze](https://pytorch.org/docs/stable/generated/torch.unsqueeze.html)"
      ]
    },
    {
      "cell_type": "code",
      "execution_count": 66,
      "metadata": {
        "colab": {
          "base_uri": "https://localhost:8080/"
        },
        "execution": {
          "iopub.execute_input": "2023-10-02T12:07:19.420313Z",
          "iopub.status.busy": "2023-10-02T12:07:19.420083Z",
          "iopub.status.idle": "2023-10-02T12:07:19.432960Z",
          "shell.execute_reply": "2023-10-02T12:07:19.432675Z",
          "shell.execute_reply.started": "2023-10-02T12:07:19.420295Z"
        },
        "id": "znaD7OlVEHL7",
        "outputId": "30992c2e-2596-4ddd-907b-453c3308a610"
      },
      "outputs": [
        {
          "name": "stdout",
          "output_type": "stream",
          "text": [
            "tensor([[0.6224, 0.4959, 0.8065],\n",
            "        [0.8786, 0.0425, 0.9076]])\n",
            "\n",
            "tensor([[[0.6224, 0.4959, 0.8065],\n",
            "         [0.8786, 0.0425, 0.9076]]]) torch.Size([1, 2, 3])\n",
            "\n",
            "tensor([[[0.6224, 0.4959, 0.8065]],\n",
            "\n",
            "        [[0.8786, 0.0425, 0.9076]]]) torch.Size([2, 1, 3])\n",
            "\n",
            "tensor([[[0.6224],\n",
            "         [0.4959],\n",
            "         [0.8065]],\n",
            "\n",
            "        [[0.8786],\n",
            "         [0.0425],\n",
            "         [0.9076]]]) torch.Size([2, 3, 1])\n"
          ]
        }
      ],
      "source": [
        "x = torch.rand(2, 3)\n",
        "\n",
        "print(x)\n",
        "print()\n",
        "print(x.unsqueeze(0), x.unsqueeze(0).shape)\n",
        "print()\n",
        "print(x.unsqueeze(1), x.unsqueeze(1).shape)\n",
        "print()\n",
        "print(x.unsqueeze(2), x.unsqueeze(2).shape)"
      ]
    },
    {
      "cell_type": "markdown",
      "metadata": {
        "id": "a0RA9z-fEHL8"
      },
      "source": [
        "Уберем лишние оси (где размер единичка):"
      ]
    },
    {
      "cell_type": "code",
      "execution_count": 67,
      "metadata": {
        "colab": {
          "base_uri": "https://localhost:8080/"
        },
        "execution": {
          "iopub.execute_input": "2023-10-02T12:14:24.935125Z",
          "iopub.status.busy": "2023-10-02T12:14:24.934662Z",
          "iopub.status.idle": "2023-10-02T12:14:24.939140Z",
          "shell.execute_reply": "2023-10-02T12:14:24.938737Z",
          "shell.execute_reply.started": "2023-10-02T12:14:24.935105Z"
        },
        "id": "KPa6fFqhEHL8",
        "outputId": "d92c47b9-eef8-4ac5-e5f4-ec659fe4f8ac"
      },
      "outputs": [
        {
          "name": "stdout",
          "output_type": "stream",
          "text": [
            "tensor([[[[0.3129, 0.1951, 0.8415]],\n",
            "\n",
            "         [[0.2055, 0.4938, 0.8077]]]])\n",
            "\n",
            "tensor([[0.3129, 0.1951, 0.8415],\n",
            "        [0.2055, 0.4938, 0.8077]]) torch.Size([2, 3])\n",
            "\n",
            "tensor([[[[0.3129, 0.1951, 0.8415]],\n",
            "\n",
            "         [[0.2055, 0.4938, 0.8077]]]]) torch.Size([1, 2, 1, 3])\n"
          ]
        }
      ],
      "source": [
        "x = torch.rand(1, 2, 1, 3)\n",
        "\n",
        "print(x)\n",
        "print()\n",
        "print(x.squeeze(), x.squeeze().shape)\n",
        "print()\n",
        "print(x.squeeze(1), x.squeeze(1).shape)"
      ]
    },
    {
      "cell_type": "markdown",
      "metadata": {
        "id": "AmYyc_SdEHL8"
      },
      "source": [
        "Теперь поговорим про типы данных в тензорах. По умолчанию в тензорах лежат числа в torch.float32 для вещественных и torch.int64 для целочисленных."
      ]
    },
    {
      "cell_type": "code",
      "execution_count": 68,
      "metadata": {
        "colab": {
          "base_uri": "https://localhost:8080/"
        },
        "execution": {
          "iopub.execute_input": "2023-10-02T12:14:45.254337Z",
          "iopub.status.busy": "2023-10-02T12:14:45.254042Z",
          "iopub.status.idle": "2023-10-02T12:14:45.259092Z",
          "shell.execute_reply": "2023-10-02T12:14:45.258725Z",
          "shell.execute_reply.started": "2023-10-02T12:14:45.254314Z"
        },
        "id": "vb8FO4TkEHL9",
        "outputId": "b36cd311-93a4-40a3-93bc-37d3242a49d1"
      },
      "outputs": [
        {
          "data": {
            "text/plain": [
              "tensor([1.5000, 2.2000, 3.7000, 4.9000])"
            ]
          },
          "execution_count": 68,
          "metadata": {},
          "output_type": "execute_result"
        }
      ],
      "source": [
        "tensor = torch.tensor([1.5, 2.2, 3.7, 4.9])\n",
        "\n",
        "tensor"
      ]
    },
    {
      "cell_type": "code",
      "execution_count": 69,
      "metadata": {
        "colab": {
          "base_uri": "https://localhost:8080/"
        },
        "execution": {
          "iopub.execute_input": "2023-10-02T12:14:49.731218Z",
          "iopub.status.busy": "2023-10-02T12:14:49.730985Z",
          "iopub.status.idle": "2023-10-02T12:14:49.733958Z",
          "shell.execute_reply": "2023-10-02T12:14:49.733675Z",
          "shell.execute_reply.started": "2023-10-02T12:14:49.731200Z"
        },
        "id": "0ZFDKdXeEHL9",
        "outputId": "66935269-17a6-468b-d70f-13885669549d"
      },
      "outputs": [
        {
          "data": {
            "text/plain": [
              "torch.float32"
            ]
          },
          "execution_count": 69,
          "metadata": {},
          "output_type": "execute_result"
        }
      ],
      "source": [
        "tensor.dtype"
      ]
    },
    {
      "cell_type": "code",
      "execution_count": 70,
      "metadata": {
        "colab": {
          "base_uri": "https://localhost:8080/"
        },
        "execution": {
          "iopub.execute_input": "2023-10-02T12:15:26.863774Z",
          "iopub.status.busy": "2023-10-02T12:15:26.863570Z",
          "iopub.status.idle": "2023-10-02T12:15:26.874974Z",
          "shell.execute_reply": "2023-10-02T12:15:26.874668Z",
          "shell.execute_reply.started": "2023-10-02T12:15:26.863760Z"
        },
        "id": "UvRPrpE4EHL9",
        "outputId": "408a1408-1071-49b0-ae2c-7e519fb81c57"
      },
      "outputs": [
        {
          "data": {
            "text/plain": [
              "tensor([1.5000, 2.1992, 3.6992, 4.8984], dtype=torch.float16)"
            ]
          },
          "execution_count": 70,
          "metadata": {},
          "output_type": "execute_result"
        }
      ],
      "source": [
        "tensor = torch.tensor([1.5, 2.2, 3.7, 4.9], dtype=torch.float16)\n",
        "\n",
        "tensor"
      ]
    },
    {
      "cell_type": "code",
      "execution_count": 71,
      "metadata": {
        "colab": {
          "base_uri": "https://localhost:8080/"
        },
        "execution": {
          "iopub.execute_input": "2023-10-02T12:15:30.990525Z",
          "iopub.status.busy": "2023-10-02T12:15:30.990348Z",
          "iopub.status.idle": "2023-10-02T12:15:30.993633Z",
          "shell.execute_reply": "2023-10-02T12:15:30.993339Z",
          "shell.execute_reply.started": "2023-10-02T12:15:30.990511Z"
        },
        "id": "Dr1GiACzEHL9",
        "outputId": "a4b55971-c03f-4fe9-a12d-e225800f152e"
      },
      "outputs": [
        {
          "data": {
            "text/plain": [
              "tensor([1.5000, 2.2000, 3.7000, 4.9000], dtype=torch.float64)"
            ]
          },
          "execution_count": 71,
          "metadata": {},
          "output_type": "execute_result"
        }
      ],
      "source": [
        "tensor = torch.tensor([1.5, 2.2, 3.7, 4.9], dtype=torch.float64)\n",
        "\n",
        "tensor"
      ]
    },
    {
      "cell_type": "code",
      "execution_count": 72,
      "metadata": {
        "colab": {
          "base_uri": "https://localhost:8080/"
        },
        "execution": {
          "iopub.execute_input": "2023-10-02T12:15:34.811722Z",
          "iopub.status.busy": "2023-10-02T12:15:34.811486Z",
          "iopub.status.idle": "2023-10-02T12:15:34.815096Z",
          "shell.execute_reply": "2023-10-02T12:15:34.814809Z",
          "shell.execute_reply.started": "2023-10-02T12:15:34.811694Z"
        },
        "id": "SaKY2wpnEHL9",
        "outputId": "9823abe5-27dc-4485-c61d-630f683609be"
      },
      "outputs": [
        {
          "data": {
            "text/plain": [
              "tensor([15, 22, 37, 49])"
            ]
          },
          "execution_count": 72,
          "metadata": {},
          "output_type": "execute_result"
        }
      ],
      "source": [
        "tensor = torch.tensor([15, 22, 37, 49])\n",
        "\n",
        "tensor"
      ]
    },
    {
      "cell_type": "code",
      "execution_count": 73,
      "metadata": {
        "colab": {
          "base_uri": "https://localhost:8080/"
        },
        "execution": {
          "iopub.execute_input": "2023-10-02T12:15:35.781681Z",
          "iopub.status.busy": "2023-10-02T12:15:35.781498Z",
          "iopub.status.idle": "2023-10-02T12:15:35.784238Z",
          "shell.execute_reply": "2023-10-02T12:15:35.783957Z",
          "shell.execute_reply.started": "2023-10-02T12:15:35.781664Z"
        },
        "id": "FVFbDxrqEHL-",
        "outputId": "92578ea0-427c-4c65-c00e-135adf4f7039"
      },
      "outputs": [
        {
          "data": {
            "text/plain": [
              "torch.int64"
            ]
          },
          "execution_count": 73,
          "metadata": {},
          "output_type": "execute_result"
        }
      ],
      "source": [
        "tensor.dtype"
      ]
    },
    {
      "cell_type": "code",
      "execution_count": 74,
      "metadata": {
        "colab": {
          "base_uri": "https://localhost:8080/"
        },
        "execution": {
          "iopub.execute_input": "2023-10-02T12:15:38.892497Z",
          "iopub.status.busy": "2023-10-02T12:15:38.892311Z",
          "iopub.status.idle": "2023-10-02T12:15:38.895935Z",
          "shell.execute_reply": "2023-10-02T12:15:38.895645Z",
          "shell.execute_reply.started": "2023-10-02T12:15:38.892483Z"
        },
        "id": "_WBC2bnEEHL-",
        "outputId": "89277d40-9d1f-4f52-fab0-e3c3c4d4f271"
      },
      "outputs": [
        {
          "data": {
            "text/plain": [
              "tensor([15, 22, 37, 49], dtype=torch.int32)"
            ]
          },
          "execution_count": 74,
          "metadata": {},
          "output_type": "execute_result"
        }
      ],
      "source": [
        "tensor = torch.tensor([15, 22, 37, 49], dtype=torch.int32)\n",
        "\n",
        "tensor"
      ]
    },
    {
      "cell_type": "code",
      "execution_count": 75,
      "metadata": {
        "colab": {
          "base_uri": "https://localhost:8080/"
        },
        "execution": {
          "iopub.execute_input": "2023-10-02T12:15:39.956235Z",
          "iopub.status.busy": "2023-10-02T12:15:39.956051Z",
          "iopub.status.idle": "2023-10-02T12:15:39.959651Z",
          "shell.execute_reply": "2023-10-02T12:15:39.959359Z",
          "shell.execute_reply.started": "2023-10-02T12:15:39.956221Z"
        },
        "id": "9Eo0sGDzEHL-",
        "outputId": "98cbcf78-65eb-4ccc-d00b-2730cabed548"
      },
      "outputs": [
        {
          "data": {
            "text/plain": [
              "tensor([15, 22, 37, 49], dtype=torch.int16)"
            ]
          },
          "execution_count": 75,
          "metadata": {},
          "output_type": "execute_result"
        }
      ],
      "source": [
        "tensor = torch.tensor([15, 22, 37, 49], dtype=torch.int16)\n",
        "\n",
        "tensor"
      ]
    },
    {
      "cell_type": "markdown",
      "metadata": {
        "id": "RQmSrYN2EHL_"
      },
      "source": [
        "Размещение тензора на GPU:"
      ]
    },
    {
      "cell_type": "code",
      "execution_count": 76,
      "metadata": {
        "colab": {
          "base_uri": "https://localhost:8080/"
        },
        "execution": {
          "iopub.execute_input": "2023-10-02T12:22:09.577110Z",
          "iopub.status.busy": "2023-10-02T12:22:09.576919Z",
          "iopub.status.idle": "2023-10-02T12:22:09.639160Z",
          "shell.execute_reply": "2023-10-02T12:22:09.638810Z",
          "shell.execute_reply.started": "2023-10-02T12:22:09.577096Z"
        },
        "id": "BlTQH8eIEHL_",
        "outputId": "d2b5b82b-9ab9-437d-f30b-9e3028a39711"
      },
      "outputs": [
        {
          "name": "stdout",
          "output_type": "stream",
          "text": [
            "True\n",
            "Tesla T4\n"
          ]
        }
      ],
      "source": [
        "print(torch.cuda.is_available())\n",
        "print(torch.cuda.get_device_name())"
      ]
    },
    {
      "cell_type": "code",
      "execution_count": 77,
      "metadata": {
        "colab": {
          "base_uri": "https://localhost:8080/"
        },
        "id": "KEZccjIzEHL_",
        "outputId": "5e83962c-05ac-4fb7-ef39-bcae1169c001"
      },
      "outputs": [
        {
          "name": "stdout",
          "output_type": "stream",
          "text": [
            "Sun Nov  3 16:16:58 2024       \n",
            "+---------------------------------------------------------------------------------------+\n",
            "| NVIDIA-SMI 535.104.05             Driver Version: 535.104.05   CUDA Version: 12.2     |\n",
            "|-----------------------------------------+----------------------+----------------------+\n",
            "| GPU  Name                 Persistence-M | Bus-Id        Disp.A | Volatile Uncorr. ECC |\n",
            "| Fan  Temp   Perf          Pwr:Usage/Cap |         Memory-Usage | GPU-Util  Compute M. |\n",
            "|                                         |                      |               MIG M. |\n",
            "|=========================================+======================+======================|\n",
            "|   0  Tesla T4                       Off | 00000000:00:04.0 Off |                    0 |\n",
            "| N/A   40C    P8               9W /  70W |      3MiB / 15360MiB |      0%      Default |\n",
            "|                                         |                      |                  N/A |\n",
            "+-----------------------------------------+----------------------+----------------------+\n",
            "                                                                                         \n",
            "+---------------------------------------------------------------------------------------+\n",
            "| Processes:                                                                            |\n",
            "|  GPU   GI   CI        PID   Type   Process name                            GPU Memory |\n",
            "|        ID   ID                                                             Usage      |\n",
            "|=======================================================================================|\n",
            "|  No running processes found                                                           |\n",
            "+---------------------------------------------------------------------------------------+\n"
          ]
        }
      ],
      "source": [
        "! nvidia-smi"
      ]
    },
    {
      "cell_type": "code",
      "execution_count": 78,
      "metadata": {
        "colab": {
          "base_uri": "https://localhost:8080/"
        },
        "execution": {
          "iopub.execute_input": "2023-10-02T12:23:12.533172Z",
          "iopub.status.busy": "2023-10-02T12:23:12.532936Z",
          "iopub.status.idle": "2023-10-02T12:23:12.535768Z",
          "shell.execute_reply": "2023-10-02T12:23:12.535368Z",
          "shell.execute_reply.started": "2023-10-02T12:23:12.533154Z"
        },
        "id": "_VB_on-mEHL_",
        "outputId": "7d0e73ac-f729-4739-f5f7-3581071b067f",
        "pycharm": {
          "name": "#%%\n"
        }
      },
      "outputs": [
        {
          "name": "stdout",
          "output_type": "stream",
          "text": [
            "cuda:0\n"
          ]
        }
      ],
      "source": [
        "device = torch.device('cuda:0' if torch.cuda.is_available() else 'cpu')\n",
        "\n",
        "print(device)"
      ]
    },
    {
      "cell_type": "code",
      "execution_count": 79,
      "metadata": {
        "colab": {
          "base_uri": "https://localhost:8080/"
        },
        "execution": {
          "iopub.execute_input": "2023-10-02T12:23:20.120062Z",
          "iopub.status.busy": "2023-10-02T12:23:20.119829Z",
          "iopub.status.idle": "2023-10-02T12:23:20.198426Z",
          "shell.execute_reply": "2023-10-02T12:23:20.197934Z",
          "shell.execute_reply.started": "2023-10-02T12:23:20.120045Z"
        },
        "id": "Ew-bFTD6EHL_",
        "outputId": "4c97bed3-1e58-497c-9a2a-d1d51141439b"
      },
      "outputs": [
        {
          "data": {
            "text/plain": [
              "tensor([15, 22, 37, 49], device='cuda:0')"
            ]
          },
          "execution_count": 79,
          "metadata": {},
          "output_type": "execute_result"
        }
      ],
      "source": [
        "tensor = torch.tensor([15, 22, 37, 49], device=device)\n",
        "\n",
        "tensor"
      ]
    },
    {
      "cell_type": "code",
      "execution_count": 81,
      "metadata": {
        "colab": {
          "base_uri": "https://localhost:8080/"
        },
        "execution": {
          "iopub.execute_input": "2023-10-02T12:24:43.464007Z",
          "iopub.status.busy": "2023-10-02T12:24:43.463798Z",
          "iopub.status.idle": "2023-10-02T12:24:43.474932Z",
          "shell.execute_reply": "2023-10-02T12:24:43.474550Z",
          "shell.execute_reply.started": "2023-10-02T12:24:43.463989Z"
        },
        "id": "tA9fnxahEHMA",
        "outputId": "a9c807db-1bf7-4f03-a817-bdce5b95488f"
      },
      "outputs": [
        {
          "name": "stdout",
          "output_type": "stream",
          "text": [
            "tensor([15, 22, 37, 49])\n"
          ]
        },
        {
          "data": {
            "text/plain": [
              "tensor([15, 22, 37, 49], device='cuda:0')"
            ]
          },
          "execution_count": 81,
          "metadata": {},
          "output_type": "execute_result"
        }
      ],
      "source": [
        "tensor = torch.tensor([15, 22, 37, 49])\n",
        "\n",
        "print(tensor)\n",
        "\n",
        "tensor = tensor.to(device)\n",
        "\n",
        "tensor"
      ]
    },
    {
      "cell_type": "code",
      "execution_count": 82,
      "metadata": {
        "colab": {
          "base_uri": "https://localhost:8080/"
        },
        "execution": {
          "iopub.execute_input": "2023-10-02T12:24:51.354499Z",
          "iopub.status.busy": "2023-10-02T12:24:51.354309Z",
          "iopub.status.idle": "2023-10-02T12:24:51.376091Z",
          "shell.execute_reply": "2023-10-02T12:24:51.375638Z",
          "shell.execute_reply.started": "2023-10-02T12:24:51.354485Z"
        },
        "id": "J-haP2YhEHMA",
        "outputId": "745b4ad0-6713-41bf-eb54-89592e8dc250"
      },
      "outputs": [
        {
          "data": {
            "text/plain": [
              "tensor([15, 22, 37, 49], device='cuda:0', dtype=torch.int32)"
            ]
          },
          "execution_count": 82,
          "metadata": {},
          "output_type": "execute_result"
        }
      ],
      "source": [
        "tensor.to(torch.int32)"
      ]
    },
    {
      "cell_type": "code",
      "execution_count": 83,
      "metadata": {
        "colab": {
          "base_uri": "https://localhost:8080/"
        },
        "execution": {
          "iopub.execute_input": "2023-10-02T12:24:58.107802Z",
          "iopub.status.busy": "2023-10-02T12:24:58.107615Z",
          "iopub.status.idle": "2023-10-02T12:24:58.110620Z",
          "shell.execute_reply": "2023-10-02T12:24:58.110335Z",
          "shell.execute_reply.started": "2023-10-02T12:24:58.107784Z"
        },
        "id": "wfcy9vUVEHMA",
        "outputId": "01723983-fd50-4dec-8239-7c9a062e80cc"
      },
      "outputs": [
        {
          "data": {
            "text/plain": [
              "tensor([15, 22, 37, 49])"
            ]
          },
          "execution_count": 83,
          "metadata": {},
          "output_type": "execute_result"
        }
      ],
      "source": [
        "tensor = tensor.cpu()\n",
        "\n",
        "tensor"
      ]
    },
    {
      "cell_type": "code",
      "execution_count": 84,
      "metadata": {
        "colab": {
          "base_uri": "https://localhost:8080/"
        },
        "execution": {
          "iopub.execute_input": "2023-10-02T12:24:59.914029Z",
          "iopub.status.busy": "2023-10-02T12:24:59.913842Z",
          "iopub.status.idle": "2023-10-02T12:24:59.917283Z",
          "shell.execute_reply": "2023-10-02T12:24:59.916999Z",
          "shell.execute_reply.started": "2023-10-02T12:24:59.914016Z"
        },
        "id": "UxNLjbkrEHMA",
        "outputId": "87eb23ef-8bc1-481c-b842-4befa04b4d16"
      },
      "outputs": [
        {
          "data": {
            "text/plain": [
              "tensor([15, 22, 37, 49], device='cuda:0')"
            ]
          },
          "execution_count": 84,
          "metadata": {},
          "output_type": "execute_result"
        }
      ],
      "source": [
        "tensor.cuda()"
      ]
    },
    {
      "cell_type": "code",
      "execution_count": 85,
      "metadata": {
        "colab": {
          "base_uri": "https://localhost:8080/"
        },
        "execution": {
          "iopub.execute_input": "2023-10-02T12:25:04.605528Z",
          "iopub.status.busy": "2023-10-02T12:25:04.605235Z",
          "iopub.status.idle": "2023-10-02T12:25:04.610451Z",
          "shell.execute_reply": "2023-10-02T12:25:04.610166Z",
          "shell.execute_reply.started": "2023-10-02T12:25:04.605504Z"
        },
        "id": "9TCVouZPEHMB",
        "outputId": "89cde197-1593-433f-9271-6888d3624049"
      },
      "outputs": [
        {
          "data": {
            "text/plain": [
              "tensor([[1.5640, 0.6864, 1.7213],\n",
              "        [0.7345, 1.2089, 0.5882]])"
            ]
          },
          "execution_count": 85,
          "metadata": {},
          "output_type": "execute_result"
        }
      ],
      "source": [
        "a = torch.rand(2, 3)\n",
        "b = torch.rand(2, 3)\n",
        "\n",
        "a + b"
      ]
    },
    {
      "cell_type": "code",
      "execution_count": 86,
      "metadata": {
        "colab": {
          "base_uri": "https://localhost:8080/",
          "height": 180
        },
        "execution": {
          "iopub.execute_input": "2023-10-02T12:26:13.581601Z",
          "iopub.status.busy": "2023-10-02T12:26:13.581414Z",
          "iopub.status.idle": "2023-10-02T12:26:13.607367Z",
          "shell.execute_reply": "2023-10-02T12:26:13.606950Z",
          "shell.execute_reply.started": "2023-10-02T12:26:13.581587Z"
        },
        "id": "f2_5hz6LEHMB",
        "outputId": "ec4c8e56-ec6d-4c69-8877-803e5fc740d2"
      },
      "outputs": [
        {
          "ename": "RuntimeError",
          "evalue": "Expected all tensors to be on the same device, but found at least two devices, cuda:0 and cpu!",
          "output_type": "error",
          "traceback": [
            "\u001b[0;31m---------------------------------------------------------------------------\u001b[0m",
            "\u001b[0;31mRuntimeError\u001b[0m                              Traceback (most recent call last)",
            "\u001b[0;32m<ipython-input-86-3fa95f38bcf3>\u001b[0m in \u001b[0;36m<cell line: 3>\u001b[0;34m()\u001b[0m\n\u001b[1;32m      1\u001b[0m \u001b[0ma\u001b[0m \u001b[0;34m=\u001b[0m \u001b[0ma\u001b[0m\u001b[0;34m.\u001b[0m\u001b[0mto\u001b[0m\u001b[0;34m(\u001b[0m\u001b[0mdevice\u001b[0m\u001b[0;34m)\u001b[0m\u001b[0;34m\u001b[0m\u001b[0;34m\u001b[0m\u001b[0m\n\u001b[1;32m      2\u001b[0m \u001b[0;34m\u001b[0m\u001b[0m\n\u001b[0;32m----> 3\u001b[0;31m \u001b[0ma\u001b[0m \u001b[0;34m+\u001b[0m \u001b[0mb\u001b[0m\u001b[0;34m\u001b[0m\u001b[0;34m\u001b[0m\u001b[0m\n\u001b[0m",
            "\u001b[0;31mRuntimeError\u001b[0m: Expected all tensors to be on the same device, but found at least two devices, cuda:0 and cpu!"
          ]
        }
      ],
      "source": [
        "a = a.to(device)\n",
        "\n",
        "a + b"
      ]
    },
    {
      "cell_type": "code",
      "execution_count": 87,
      "metadata": {
        "colab": {
          "base_uri": "https://localhost:8080/"
        },
        "execution": {
          "iopub.execute_input": "2023-10-02T12:26:19.290951Z",
          "iopub.status.busy": "2023-10-02T12:26:19.290717Z",
          "iopub.status.idle": "2023-10-02T12:26:19.348326Z",
          "shell.execute_reply": "2023-10-02T12:26:19.347961Z",
          "shell.execute_reply.started": "2023-10-02T12:26:19.290933Z"
        },
        "id": "W3_yRVEAEHMB",
        "outputId": "8fea0762-d006-4321-dd22-56e1461c2807"
      },
      "outputs": [
        {
          "data": {
            "text/plain": [
              "tensor([[1.5640, 0.6864, 1.7213],\n",
              "        [0.7345, 1.2089, 0.5882]], device='cuda:0')"
            ]
          },
          "execution_count": 87,
          "metadata": {},
          "output_type": "execute_result"
        }
      ],
      "source": [
        "b = b.to(device)\n",
        "\n",
        "a + b"
      ]
    },
    {
      "cell_type": "markdown",
      "metadata": {
        "id": "ZOiOiiInEHMB"
      },
      "source": [
        "### Операции с тензорами\n",
        "\n",
        "Большая часть операций с тензорами хорошо описана в их [документации](https://pytorch.org/docs/stable/torch.html), разберем основные:"
      ]
    },
    {
      "cell_type": "code",
      "execution_count": 88,
      "metadata": {
        "colab": {
          "base_uri": "https://localhost:8080/"
        },
        "execution": {
          "iopub.execute_input": "2023-10-02T12:26:30.498045Z",
          "iopub.status.busy": "2023-10-02T12:26:30.497855Z",
          "iopub.status.idle": "2023-10-02T12:26:30.501690Z",
          "shell.execute_reply": "2023-10-02T12:26:30.501405Z",
          "shell.execute_reply.started": "2023-10-02T12:26:30.498032Z"
        },
        "id": "3yv9wu3yEHMC",
        "outputId": "9cdd6469-33f9-4a1d-e4b4-90839cbfb79a"
      },
      "outputs": [
        {
          "data": {
            "text/plain": [
              "(tensor([[0.6009, 0.4247, 0.2935],\n",
              "         [0.3876, 0.7189, 0.4851]]),\n",
              " tensor([[0.0596, 0.9913, 0.1528],\n",
              "         [0.2120, 0.9314, 0.4532]]))"
            ]
          },
          "execution_count": 88,
          "metadata": {},
          "output_type": "execute_result"
        }
      ],
      "source": [
        "a = torch.rand(2, 3)\n",
        "b = torch.rand(2, 3)\n",
        "\n",
        "a, b"
      ]
    },
    {
      "cell_type": "code",
      "execution_count": 89,
      "metadata": {
        "colab": {
          "base_uri": "https://localhost:8080/"
        },
        "execution": {
          "iopub.execute_input": "2023-10-02T12:26:50.812404Z",
          "iopub.status.busy": "2023-10-02T12:26:50.812220Z",
          "iopub.status.idle": "2023-10-02T12:26:50.815891Z",
          "shell.execute_reply": "2023-10-02T12:26:50.815586Z",
          "shell.execute_reply.started": "2023-10-02T12:26:50.812390Z"
        },
        "id": "1Ie0jJq9EHMC",
        "outputId": "7f052696-cf50-4df4-c14d-d75815a1ae4c"
      },
      "outputs": [
        {
          "name": "stdout",
          "output_type": "stream",
          "text": [
            "tensor([[0.6605, 1.4160, 0.4463],\n",
            "        [0.5996, 1.6504, 0.9383]])\n",
            "\n",
            "tensor([[0.6605, 1.4160, 0.4463],\n",
            "        [0.5996, 1.6504, 0.9383]])\n",
            "\n",
            "tensor([[0.6605, 1.4160, 0.4463],\n",
            "        [0.5996, 1.6504, 0.9383]])\n"
          ]
        }
      ],
      "source": [
        "# поэлементные\n",
        "\n",
        "print(a + b)\n",
        "\n",
        "print()\n",
        "\n",
        "print(torch.add(a, b))\n",
        "\n",
        "print()\n",
        "\n",
        "print(a.add(b))"
      ]
    },
    {
      "cell_type": "code",
      "execution_count": 90,
      "metadata": {
        "colab": {
          "base_uri": "https://localhost:8080/"
        },
        "execution": {
          "iopub.execute_input": "2023-10-02T12:26:53.124522Z",
          "iopub.status.busy": "2023-10-02T12:26:53.124332Z",
          "iopub.status.idle": "2023-10-02T12:26:53.128386Z",
          "shell.execute_reply": "2023-10-02T12:26:53.127842Z",
          "shell.execute_reply.started": "2023-10-02T12:26:53.124508Z"
        },
        "id": "gG0Lvb5qEHMC",
        "outputId": "0f330d91-439f-4140-f675-0316f07866f9"
      },
      "outputs": [
        {
          "name": "stdout",
          "output_type": "stream",
          "text": [
            "tensor([[ 0.5413, -0.5666,  0.1407],\n",
            "        [ 0.1756, -0.2125,  0.0318]])\n",
            "\n",
            "tensor([[ 0.5413, -0.5666,  0.1407],\n",
            "        [ 0.1756, -0.2125,  0.0318]])\n",
            "\n",
            "tensor([[ 0.5413, -0.5666,  0.1407],\n",
            "        [ 0.1756, -0.2125,  0.0318]])\n"
          ]
        }
      ],
      "source": [
        "print(a - b)\n",
        "\n",
        "print()\n",
        "\n",
        "print(torch.sub(a, b))\n",
        "\n",
        "print()\n",
        "\n",
        "print(a.sub(b))"
      ]
    },
    {
      "cell_type": "code",
      "execution_count": 91,
      "metadata": {
        "colab": {
          "base_uri": "https://localhost:8080/"
        },
        "execution": {
          "iopub.execute_input": "2023-10-02T12:26:53.767591Z",
          "iopub.status.busy": "2023-10-02T12:26:53.767404Z",
          "iopub.status.idle": "2023-10-02T12:26:53.778703Z",
          "shell.execute_reply": "2023-10-02T12:26:53.778240Z",
          "shell.execute_reply.started": "2023-10-02T12:26:53.767577Z"
        },
        "id": "3Fnx9FCuEHMC",
        "outputId": "bf563009-e42f-4c95-d667-196504240376"
      },
      "outputs": [
        {
          "name": "stdout",
          "output_type": "stream",
          "text": [
            "tensor([[0.0358, 0.4210, 0.0448],\n",
            "        [0.0822, 0.6696, 0.2198]])\n",
            "\n",
            "tensor([[0.0358, 0.4210, 0.0448],\n",
            "        [0.0822, 0.6696, 0.2198]])\n",
            "\n",
            "tensor([[0.0358, 0.4210, 0.0448],\n",
            "        [0.0822, 0.6696, 0.2198]])\n"
          ]
        }
      ],
      "source": [
        "print(a * b)\n",
        "\n",
        "print()\n",
        "\n",
        "print(torch.mul(a, b))\n",
        "\n",
        "print()\n",
        "\n",
        "print(a.mul(b))"
      ]
    },
    {
      "cell_type": "code",
      "execution_count": 92,
      "metadata": {
        "colab": {
          "base_uri": "https://localhost:8080/"
        },
        "execution": {
          "iopub.execute_input": "2023-10-02T12:26:55.686833Z",
          "iopub.status.busy": "2023-10-02T12:26:55.686605Z",
          "iopub.status.idle": "2023-10-02T12:26:55.690345Z",
          "shell.execute_reply": "2023-10-02T12:26:55.690039Z",
          "shell.execute_reply.started": "2023-10-02T12:26:55.686820Z"
        },
        "id": "Yp-BPSfCEHMD",
        "outputId": "9b298c00-835d-4fc2-b19f-079b8ff17edf"
      },
      "outputs": [
        {
          "name": "stdout",
          "output_type": "stream",
          "text": [
            "tensor([[10.0853,  0.4284,  1.9210],\n",
            "        [ 1.8283,  0.7719,  1.0702]])\n",
            "\n",
            "tensor([[10.0853,  0.4284,  1.9210],\n",
            "        [ 1.8283,  0.7719,  1.0702]])\n",
            "\n",
            "tensor([[10.0853,  0.4284,  1.9210],\n",
            "        [ 1.8283,  0.7719,  1.0702]])\n"
          ]
        }
      ],
      "source": [
        "print(a / b)\n",
        "\n",
        "print()\n",
        "\n",
        "print(torch.div(a, b))\n",
        "\n",
        "print()\n",
        "\n",
        "print(a.div(b))"
      ]
    },
    {
      "cell_type": "code",
      "execution_count": 93,
      "metadata": {
        "colab": {
          "base_uri": "https://localhost:8080/"
        },
        "execution": {
          "iopub.execute_input": "2023-10-02T12:26:57.734889Z",
          "iopub.status.busy": "2023-10-02T12:26:57.734663Z",
          "iopub.status.idle": "2023-10-02T12:26:57.739045Z",
          "shell.execute_reply": "2023-10-02T12:26:57.738756Z",
          "shell.execute_reply.started": "2023-10-02T12:26:57.734875Z"
        },
        "id": "t5zPcKLJEHMD",
        "outputId": "2d8843ec-161d-4a7b-b152-889326747415"
      },
      "outputs": [
        {
          "data": {
            "text/plain": [
              "(tensor([[0.3999, 0.6247, 0.0458],\n",
              "         [0.8577, 0.8608, 0.3346]]),\n",
              " tensor([[0.2014, 0.2702, 0.9009, 0.2525],\n",
              "         [0.6835, 0.8665, 0.1272, 0.9652],\n",
              "         [0.7454, 0.1738, 0.5471, 0.3331]]),\n",
              " tensor([[0.6004, 0.2734, 0.1423, 0.3446, 0.0226],\n",
              "         [0.1344, 0.9968, 0.0348, 0.6236, 0.3044],\n",
              "         [0.3527, 0.1596, 0.4537, 0.6365, 0.3354],\n",
              "         [0.1075, 0.7240, 0.7287, 0.8468, 0.4543],\n",
              "         [0.2339, 0.5326, 0.4105, 0.4988, 0.8752]]))"
            ]
          },
          "execution_count": 93,
          "metadata": {},
          "output_type": "execute_result"
        }
      ],
      "source": [
        "a = torch.rand(2, 3)\n",
        "b = torch.rand(3, 4)\n",
        "c = torch.rand(5, 5)\n",
        "\n",
        "a, b, c"
      ]
    },
    {
      "cell_type": "code",
      "execution_count": 94,
      "metadata": {
        "colab": {
          "base_uri": "https://localhost:8080/"
        },
        "execution": {
          "iopub.execute_input": "2023-10-02T12:27:09.096880Z",
          "iopub.status.busy": "2023-10-02T12:27:09.096690Z",
          "iopub.status.idle": "2023-10-02T12:27:09.111085Z",
          "shell.execute_reply": "2023-10-02T12:27:09.110807Z",
          "shell.execute_reply.started": "2023-10-02T12:27:09.096866Z"
        },
        "id": "RYWY7I9REHMD",
        "outputId": "f37cbb0c-6b29-4a14-d414-2285eaf4586c",
        "scrolled": true
      },
      "outputs": [
        {
          "name": "stdout",
          "output_type": "stream",
          "text": [
            "tensor([[0.5417, 0.6573, 0.4649, 0.7192],\n",
            "        [1.0105, 1.0358, 1.0654, 1.1589]]) torch.Size([2, 4])\n",
            "\n",
            "tensor([[0.5417, 0.6573, 0.4649, 0.7192],\n",
            "        [1.0105, 1.0358, 1.0654, 1.1589]]) torch.Size([2, 4])\n",
            "\n",
            "tensor(3.7729)\n",
            "\n",
            "tensor([[1.8228, 1.3144, 1.1530, 1.4114, 1.0229],\n",
            "        [1.1438, 2.7096, 1.0354, 1.8656, 1.3558],\n",
            "        [1.4230, 1.1730, 1.5741, 1.8898, 1.3985],\n",
            "        [1.1135, 2.0626, 2.0723, 2.3322, 1.5751],\n",
            "        [1.2635, 1.7034, 1.5075, 1.6468, 2.3994]])\n"
          ]
        }
      ],
      "source": [
        "# матричные операции\n",
        "\n",
        "print(a @ b, (a @ b).shape)\n",
        "\n",
        "print()\n",
        "\n",
        "print(torch.matmul(a, b), torch.matmul(a, b).shape)\n",
        "\n",
        "print()\n",
        "\n",
        "print(c.trace())\n",
        "\n",
        "print()\n",
        "\n",
        "print(c.exp())"
      ]
    }
  ],
  "metadata": {
    "colab": {
      "provenance": []
    },
    "kernelspec": {
      "display_name": "Python 3",
      "name": "python3"
    },
    "language_info": {
      "codemirror_mode": {
        "name": "ipython",
        "version": 3
      },
      "file_extension": ".py",
      "mimetype": "text/x-python",
      "name": "python",
      "nbconvert_exporter": "python",
      "pygments_lexer": "ipython3",
      "version": "3.10.12"
    }
  },
  "nbformat": 4,
  "nbformat_minor": 0
}
