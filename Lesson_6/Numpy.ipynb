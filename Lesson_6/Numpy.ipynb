{
  "cells": [
    {
      "cell_type": "markdown",
      "metadata": {
        "id": "XurmdeoLLIx-"
      },
      "source": [
        "## NumPy\n",
        "\n",
        "**NumPy** — библиотека языка Python, позволяющая (удобно) работать с многомерными массивами и матрицами. Кроме того, NumPy позволяет векторизовать многие вычисления, имеющие место в машинном обучении.\n",
        "\n",
        " - [numpy](http://www.numpy.org)\n",
        " - [numpy tutorial](http://cs231n.github.io/python-numpy-tutorial/)\n",
        " - [100 numpy exercises](http://www.labri.fr/perso/nrougier/teaching/numpy.100/)\n",
        "\n",
        "Кстати, про NumPy недавно вышла [публикация](https://www.nature.com/articles/s41586-020-2649-2) в Nature."
      ]
    },
    {
      "cell_type": "code",
      "execution_count": 1,
      "metadata": {
        "ExecuteTime": {
          "end_time": "2020-09-22T15:42:51.828215Z",
          "start_time": "2020-09-22T15:42:51.698487Z"
        },
        "id": "J7FwvJ-LLIyD"
      },
      "outputs": [],
      "source": [
        "import numpy as np\n",
        "import warnings\n",
        "warnings.filterwarnings('ignore')"
      ]
    },
    {
      "cell_type": "markdown",
      "metadata": {
        "id": "JX5pa3NALIyG"
      },
      "source": [
        "Основным типом данных NumPy является многомерный массив элементов одного типа — [numpy.ndarray](http://docs.scipy.org/doc/numpy-1.10.0/reference/generated/numpy.array.html). Каждый подобный массив имеет несколько *измерений* или *осей* — в частности, вектор (в классическом понимании) является одномерным массивом и имеет 1 ось, матрица является двумерным массивом и имеет 2 оси и т.д."
      ]
    },
    {
      "cell_type": "code",
      "execution_count": 2,
      "metadata": {
        "ExecuteTime": {
          "end_time": "2020-09-22T15:42:51.842022Z",
          "start_time": "2020-09-22T15:42:51.830534Z"
        },
        "colab": {
          "base_uri": "https://localhost:8080/"
        },
        "id": "Y5l-ftRlLIyG",
        "outputId": "58a2dd0a-fe5e-420b-b9df-45f564aa909c"
      },
      "outputs": [
        {
          "output_type": "execute_result",
          "data": {
            "text/plain": [
              "1"
            ]
          },
          "metadata": {},
          "execution_count": 2
        }
      ],
      "source": [
        "vec = np.array([1, 2, 3])\n",
        "vec.ndim # количество осей"
      ]
    },
    {
      "cell_type": "code",
      "execution_count": 4,
      "metadata": {
        "ExecuteTime": {
          "end_time": "2020-09-22T15:42:51.848899Z",
          "start_time": "2020-09-22T15:42:51.844661Z"
        },
        "colab": {
          "base_uri": "https://localhost:8080/"
        },
        "id": "Ljqey9gkLIyI",
        "outputId": "cb88eeb3-d7e4-45b7-c817-e21663463a58"
      },
      "outputs": [
        {
          "output_type": "execute_result",
          "data": {
            "text/plain": [
              "2"
            ]
          },
          "metadata": {},
          "execution_count": 4
        }
      ],
      "source": [
        "mat = np.array([[1, 2, 3], [4, 5, 6]])\n",
        "mat.ndim"
      ]
    },
    {
      "cell_type": "markdown",
      "metadata": {
        "id": "598cPP0wLIyJ"
      },
      "source": [
        "Чтобы узнать длину массива по каждой из осей, можно воспользоваться атрибутом shape:"
      ]
    },
    {
      "cell_type": "code",
      "execution_count": 8,
      "metadata": {
        "ExecuteTime": {
          "end_time": "2020-09-22T15:42:51.854991Z",
          "start_time": "2020-09-22T15:42:51.851142Z"
        },
        "colab": {
          "base_uri": "https://localhost:8080/"
        },
        "id": "4-Gkgr8ZLIyJ",
        "outputId": "7a1c1775-c165-449b-dca4-24c1617e2b17"
      },
      "outputs": [
        {
          "output_type": "stream",
          "name": "stdout",
          "text": [
            "[1 2 3]\n"
          ]
        },
        {
          "output_type": "execute_result",
          "data": {
            "text/plain": [
              "(3,)"
            ]
          },
          "metadata": {},
          "execution_count": 8
        }
      ],
      "source": [
        "print(vec)\n",
        "vec.shape"
      ]
    },
    {
      "cell_type": "code",
      "source": [
        "print(mat)\n",
        "mat.shape"
      ],
      "metadata": {
        "colab": {
          "base_uri": "https://localhost:8080/"
        },
        "id": "n3tbmkFXOLb_",
        "outputId": "bc950bd4-7ee8-4974-9b2f-16dbcff65022"
      },
      "execution_count": 11,
      "outputs": [
        {
          "output_type": "stream",
          "name": "stdout",
          "text": [
            "[[1 2 3]\n",
            " [4 5 6]]\n"
          ]
        },
        {
          "output_type": "execute_result",
          "data": {
            "text/plain": [
              "(2, 3)"
            ]
          },
          "metadata": {},
          "execution_count": 11
        }
      ]
    },
    {
      "cell_type": "markdown",
      "metadata": {
        "id": "oVppGikMLIyK"
      },
      "source": [
        "Чтобы узнать тип элементов и их размер в байтах:"
      ]
    },
    {
      "cell_type": "code",
      "execution_count": 14,
      "metadata": {
        "ExecuteTime": {
          "end_time": "2020-09-22T15:42:51.865162Z",
          "start_time": "2020-09-22T15:42:51.857049Z"
        },
        "colab": {
          "base_uri": "https://localhost:8080/",
          "height": 35
        },
        "id": "mVjqjOqsLIyK",
        "outputId": "972582f4-61aa-493f-d8dc-0bd528657742"
      },
      "outputs": [
        {
          "output_type": "execute_result",
          "data": {
            "text/plain": [
              "'int64'"
            ],
            "application/vnd.google.colaboratory.intrinsic+json": {
              "type": "string"
            }
          },
          "metadata": {},
          "execution_count": 14
        }
      ],
      "source": [
        "mat.dtype.name"
      ]
    },
    {
      "cell_type": "code",
      "execution_count": 15,
      "metadata": {
        "ExecuteTime": {
          "end_time": "2020-09-22T15:42:51.871563Z",
          "start_time": "2020-09-22T15:42:51.867576Z"
        },
        "colab": {
          "base_uri": "https://localhost:8080/"
        },
        "id": "_oFT9Yx8LIyL",
        "outputId": "9c21c078-99f2-4ca3-981f-e22df60ef6dc"
      },
      "outputs": [
        {
          "output_type": "execute_result",
          "data": {
            "text/plain": [
              "8"
            ]
          },
          "metadata": {},
          "execution_count": 15
        }
      ],
      "source": [
        "mat.itemsize"
      ]
    },
    {
      "cell_type": "markdown",
      "metadata": {
        "id": "W21yqDOMLIyL"
      },
      "source": [
        "#### Создание массивов\n",
        "\n",
        "Есть несколько способов сформировать массив в NumPy:\n",
        "\n",
        "* Передать итерируемый объект в качестве параметра функции array (можно также явно указать тип элементов):"
      ]
    },
    {
      "cell_type": "code",
      "execution_count": 16,
      "metadata": {
        "ExecuteTime": {
          "end_time": "2020-09-22T15:42:51.878946Z",
          "start_time": "2020-09-22T15:42:51.874042Z"
        },
        "colab": {
          "base_uri": "https://localhost:8080/"
        },
        "id": "fCGGcy0LLIyM",
        "outputId": "4d1ff1f2-5215-4cba-d63a-eb2c674aca0b"
      },
      "outputs": [
        {
          "output_type": "execute_result",
          "data": {
            "text/plain": [
              "(array([1, 2, 3]), dtype('int64'))"
            ]
          },
          "metadata": {},
          "execution_count": 16
        }
      ],
      "source": [
        "A = np.array([1, 2, 3])\n",
        "A, A.dtype"
      ]
    },
    {
      "cell_type": "code",
      "execution_count": null,
      "metadata": {
        "ExecuteTime": {
          "end_time": "2020-09-22T15:42:51.887234Z",
          "start_time": "2020-09-22T15:42:51.882620Z"
        },
        "id": "6GW2HTU-LIyM",
        "outputId": "e37dccae-5692-46fa-f78c-972ee904f8e8"
      },
      "outputs": [
        {
          "data": {
            "text/plain": [
              "(array([1., 2., 3.]), dtype('float64'))"
            ]
          },
          "execution_count": 8,
          "metadata": {},
          "output_type": "execute_result"
        }
      ],
      "source": [
        "A = np.array([1, 2, 3], dtype=float)\n",
        "A, A.dtype"
      ]
    },
    {
      "cell_type": "code",
      "source": [
        "A = np.array([1., 2., 3.])\n",
        "A, A.dtype"
      ],
      "metadata": {
        "colab": {
          "base_uri": "https://localhost:8080/"
        },
        "id": "te2iLX7KO0KE",
        "outputId": "28a383c9-03c9-4838-eb60-0bdfe83987a2"
      },
      "execution_count": 17,
      "outputs": [
        {
          "output_type": "execute_result",
          "data": {
            "text/plain": [
              "(array([1., 2., 3.]), dtype('float64'))"
            ]
          },
          "metadata": {},
          "execution_count": 17
        }
      ]
    },
    {
      "cell_type": "markdown",
      "metadata": {
        "id": "Gik9sHQZLIyM"
      },
      "source": [
        "* Воспользоваться функциями zeros, ones, empty, identity, если вам нужен объект специального вида:"
      ]
    },
    {
      "cell_type": "code",
      "execution_count": 21,
      "metadata": {
        "ExecuteTime": {
          "end_time": "2020-09-22T15:42:51.893393Z",
          "start_time": "2020-09-22T15:42:51.889888Z"
        },
        "colab": {
          "base_uri": "https://localhost:8080/"
        },
        "id": "nZZeUPSVLIyM",
        "outputId": "e8c512dd-1864-4e88-8a0d-be63b7f5abee"
      },
      "outputs": [
        {
          "output_type": "execute_result",
          "data": {
            "text/plain": [
              "array([0., 0., 0.])"
            ]
          },
          "metadata": {},
          "execution_count": 21
        }
      ],
      "source": [
        "np.zeros((3,))"
      ]
    },
    {
      "cell_type": "code",
      "execution_count": 24,
      "metadata": {
        "ExecuteTime": {
          "end_time": "2020-09-22T15:42:51.898550Z",
          "start_time": "2020-09-22T15:42:51.894863Z"
        },
        "colab": {
          "base_uri": "https://localhost:8080/"
        },
        "id": "wNlo005XLIyN",
        "outputId": "e78fab4b-4900-408c-97a7-b6b3f63e3196"
      },
      "outputs": [
        {
          "output_type": "execute_result",
          "data": {
            "text/plain": [
              "array([[1., 1., 1., 1.],\n",
              "       [1., 1., 1., 1.],\n",
              "       [1., 1., 1., 1.]])"
            ]
          },
          "metadata": {},
          "execution_count": 24
        }
      ],
      "source": [
        "np.ones((3, 4))"
      ]
    },
    {
      "cell_type": "code",
      "execution_count": 25,
      "metadata": {
        "ExecuteTime": {
          "end_time": "2020-09-22T15:42:51.903530Z",
          "start_time": "2020-09-22T15:42:51.900141Z"
        },
        "colab": {
          "base_uri": "https://localhost:8080/"
        },
        "id": "J98FLBooLIyN",
        "outputId": "4280ba71-34e0-44b0-9ca0-27b17a42f489"
      },
      "outputs": [
        {
          "output_type": "execute_result",
          "data": {
            "text/plain": [
              "array([[1., 0., 0., 0., 0.],\n",
              "       [0., 1., 0., 0., 0.],\n",
              "       [0., 0., 1., 0., 0.],\n",
              "       [0., 0., 0., 1., 0.],\n",
              "       [0., 0., 0., 0., 1.]])"
            ]
          },
          "metadata": {},
          "execution_count": 25
        }
      ],
      "source": [
        "np.identity(5)"
      ]
    },
    {
      "cell_type": "code",
      "source": [
        "np.eye(5, k=1)"
      ],
      "metadata": {
        "colab": {
          "base_uri": "https://localhost:8080/"
        },
        "id": "UOkRZI-4PcJd",
        "outputId": "12c595c7-bd07-441b-ef3a-4ab7f3ea2974"
      },
      "execution_count": 28,
      "outputs": [
        {
          "output_type": "execute_result",
          "data": {
            "text/plain": [
              "array([[0., 1., 0., 0., 0.],\n",
              "       [0., 0., 1., 0., 0.],\n",
              "       [0., 0., 0., 1., 0.],\n",
              "       [0., 0., 0., 0., 1.],\n",
              "       [0., 0., 0., 0., 0.]])"
            ]
          },
          "metadata": {},
          "execution_count": 28
        }
      ]
    },
    {
      "cell_type": "markdown",
      "metadata": {
        "id": "n9VmUss1LIyN"
      },
      "source": [
        "* Воспользоваться функциями arange (в качестве параметров принимает левую и правую границы последовательности и **шаг**) и linspace (принимает левую и правую границы и **количество элементов**) для формирования последовательностей:"
      ]
    },
    {
      "cell_type": "code",
      "execution_count": 32,
      "metadata": {
        "ExecuteTime": {
          "end_time": "2020-09-22T15:42:51.908583Z",
          "start_time": "2020-09-22T15:42:51.905271Z"
        },
        "colab": {
          "base_uri": "https://localhost:8080/"
        },
        "id": "xKgfv6z4LIyN",
        "outputId": "1adb40ff-f5d1-4793-ea9a-15eef3a798b8"
      },
      "outputs": [
        {
          "output_type": "execute_result",
          "data": {
            "text/plain": [
              "array([ 2,  5,  8, 11, 14, 17])"
            ]
          },
          "metadata": {},
          "execution_count": 32
        }
      ],
      "source": [
        "np.arange(2, 20, 3) # аналогично стандартной функции range python, правая граница не включается"
      ]
    },
    {
      "cell_type": "code",
      "execution_count": 33,
      "metadata": {
        "ExecuteTime": {
          "end_time": "2020-09-22T15:42:51.913731Z",
          "start_time": "2020-09-22T15:42:51.910114Z"
        },
        "colab": {
          "base_uri": "https://localhost:8080/"
        },
        "id": "nwvXj7NfLIyO",
        "outputId": "50c24906-f4e3-4775-8598-c85ba6327a60"
      },
      "outputs": [
        {
          "output_type": "execute_result",
          "data": {
            "text/plain": [
              "array([2.5, 3.4, 4.3, 5.2, 6.1, 7. , 7.9])"
            ]
          },
          "metadata": {},
          "execution_count": 33
        }
      ],
      "source": [
        "np.arange(2.5, 8.7, 0.9) # но может работать и с вещественными числами"
      ]
    },
    {
      "cell_type": "code",
      "execution_count": 34,
      "metadata": {
        "ExecuteTime": {
          "end_time": "2020-09-22T15:42:51.918947Z",
          "start_time": "2020-09-22T15:42:51.915578Z"
        },
        "colab": {
          "base_uri": "https://localhost:8080/"
        },
        "id": "co8Roh8dLIyO",
        "outputId": "0a86159d-dc14-4a56-95c5-98184ba3801c"
      },
      "outputs": [
        {
          "output_type": "execute_result",
          "data": {
            "text/plain": [
              "array([ 2.        ,  3.23076923,  4.46153846,  5.69230769,  6.92307692,\n",
              "        8.15384615,  9.38461538, 10.61538462, 11.84615385, 13.07692308,\n",
              "       14.30769231, 15.53846154, 16.76923077, 18.        ])"
            ]
          },
          "metadata": {},
          "execution_count": 34
        }
      ],
      "source": [
        "np.linspace(2, 18, 14) # правая граница включается (по умолчанию)"
      ]
    },
    {
      "cell_type": "code",
      "source": [
        "np.linspace(2, 5, 4)"
      ],
      "metadata": {
        "colab": {
          "base_uri": "https://localhost:8080/"
        },
        "id": "niQA87GsQQFT",
        "outputId": "151abd26-6854-4387-fef5-1554ae718043"
      },
      "execution_count": 36,
      "outputs": [
        {
          "output_type": "execute_result",
          "data": {
            "text/plain": [
              "array([2., 3., 4., 5.])"
            ]
          },
          "metadata": {},
          "execution_count": 36
        }
      ]
    },
    {
      "cell_type": "markdown",
      "metadata": {
        "id": "foJ39dLTLIyO"
      },
      "source": [
        "* Изменить размеры существующего массива с помощью reshape (при этом количество элементов должно оставаться неизменным):"
      ]
    },
    {
      "cell_type": "code",
      "source": [
        "np.arange(9)"
      ],
      "metadata": {
        "colab": {
          "base_uri": "https://localhost:8080/"
        },
        "id": "jVcWgbvlQeCY",
        "outputId": "361df174-9eaa-40d2-af78-65e1bcf2109a"
      },
      "execution_count": 37,
      "outputs": [
        {
          "output_type": "execute_result",
          "data": {
            "text/plain": [
              "array([0, 1, 2, 3, 4, 5, 6, 7, 8])"
            ]
          },
          "metadata": {},
          "execution_count": 37
        }
      ]
    },
    {
      "cell_type": "code",
      "execution_count": 38,
      "metadata": {
        "ExecuteTime": {
          "end_time": "2020-09-22T15:42:51.923959Z",
          "start_time": "2020-09-22T15:42:51.920505Z"
        },
        "colab": {
          "base_uri": "https://localhost:8080/"
        },
        "id": "bD7MXo6ILIyO",
        "outputId": "7eaac41c-890c-4975-81e2-4fa88d45a770"
      },
      "outputs": [
        {
          "output_type": "execute_result",
          "data": {
            "text/plain": [
              "array([[0, 1, 2],\n",
              "       [3, 4, 5],\n",
              "       [6, 7, 8]])"
            ]
          },
          "metadata": {},
          "execution_count": 38
        }
      ],
      "source": [
        "np.arange(9).reshape(3, 3)"
      ]
    },
    {
      "cell_type": "markdown",
      "metadata": {
        "id": "40bmm_X2LIyO"
      },
      "source": [
        "Вместо значения длины массива по одному из измерений можно указать -1 — в этом случае значение будет рассчитано автоматически:"
      ]
    },
    {
      "cell_type": "code",
      "source": [
        "np.arange(8)"
      ],
      "metadata": {
        "colab": {
          "base_uri": "https://localhost:8080/"
        },
        "id": "Hk1esGOWQlwV",
        "outputId": "97c723e1-a204-4b3c-c409-c75c9c1f6137"
      },
      "execution_count": 40,
      "outputs": [
        {
          "output_type": "execute_result",
          "data": {
            "text/plain": [
              "array([0, 1, 2, 3, 4, 5, 6, 7])"
            ]
          },
          "metadata": {},
          "execution_count": 40
        }
      ]
    },
    {
      "cell_type": "code",
      "execution_count": 39,
      "metadata": {
        "ExecuteTime": {
          "end_time": "2020-09-22T15:42:51.929133Z",
          "start_time": "2020-09-22T15:42:51.925453Z"
        },
        "scrolled": false,
        "colab": {
          "base_uri": "https://localhost:8080/"
        },
        "id": "AIcdLn9lLIyP",
        "outputId": "22af3adb-a979-4f2e-e716-157cac4538e5"
      },
      "outputs": [
        {
          "output_type": "execute_result",
          "data": {
            "text/plain": [
              "array([[0, 1, 2, 3],\n",
              "       [4, 5, 6, 7]])"
            ]
          },
          "metadata": {},
          "execution_count": 39
        }
      ],
      "source": [
        "np.arange(8).reshape(2, -1)"
      ]
    },
    {
      "cell_type": "markdown",
      "metadata": {
        "id": "jsI6NYsLLIyP"
      },
      "source": [
        "* Транспонировать существующий массив:"
      ]
    },
    {
      "cell_type": "code",
      "execution_count": 42,
      "metadata": {
        "ExecuteTime": {
          "end_time": "2020-09-22T15:42:51.933803Z",
          "start_time": "2020-09-22T15:42:51.930599Z"
        },
        "colab": {
          "base_uri": "https://localhost:8080/"
        },
        "id": "O3Ka_MF_LIyP",
        "outputId": "d0103f11-2351-4d83-e0dc-15fa9b932a19"
      },
      "outputs": [
        {
          "output_type": "execute_result",
          "data": {
            "text/plain": [
              "array([[0, 1, 2],\n",
              "       [3, 4, 5]])"
            ]
          },
          "metadata": {},
          "execution_count": 42
        }
      ],
      "source": [
        "C = np.arange(6).reshape(2, -1)\n",
        "C"
      ]
    },
    {
      "cell_type": "code",
      "source": [
        "C.shape"
      ],
      "metadata": {
        "colab": {
          "base_uri": "https://localhost:8080/"
        },
        "id": "lEZ9lVi7RBjn",
        "outputId": "b5aa3d07-06f1-44ca-a9ea-fe429c869c58"
      },
      "execution_count": 43,
      "outputs": [
        {
          "output_type": "execute_result",
          "data": {
            "text/plain": [
              "(2, 3)"
            ]
          },
          "metadata": {},
          "execution_count": 43
        }
      ]
    },
    {
      "cell_type": "code",
      "execution_count": null,
      "metadata": {
        "ExecuteTime": {
          "end_time": "2020-09-22T15:42:51.938143Z",
          "start_time": "2020-09-22T15:42:51.935159Z"
        },
        "id": "j4ttAoNkLIyP",
        "outputId": "b5348117-51d1-4a91-bb6d-6e248b84f357"
      },
      "outputs": [
        {
          "data": {
            "text/plain": [
              "array([[0, 3],\n",
              "       [1, 4],\n",
              "       [2, 5]])"
            ]
          },
          "execution_count": 18,
          "metadata": {},
          "output_type": "execute_result"
        }
      ],
      "source": [
        "C.T"
      ]
    },
    {
      "cell_type": "code",
      "source": [
        "C.T.shape"
      ],
      "metadata": {
        "colab": {
          "base_uri": "https://localhost:8080/"
        },
        "id": "V65wMMJjRC5n",
        "outputId": "02483063-392b-4922-f26a-5f0a2ecf090b"
      },
      "execution_count": 44,
      "outputs": [
        {
          "output_type": "execute_result",
          "data": {
            "text/plain": [
              "(3, 2)"
            ]
          },
          "metadata": {},
          "execution_count": 44
        }
      ]
    },
    {
      "cell_type": "markdown",
      "metadata": {
        "id": "N05HtxdtLIyP"
      },
      "source": [
        "* Повторить существующий массив:"
      ]
    },
    {
      "cell_type": "code",
      "execution_count": 45,
      "metadata": {
        "ExecuteTime": {
          "end_time": "2020-09-22T15:42:51.943090Z",
          "start_time": "2020-09-22T15:42:51.939583Z"
        },
        "colab": {
          "base_uri": "https://localhost:8080/"
        },
        "id": "XbSksLwoLIyQ",
        "outputId": "7413961d-5cc2-4140-a3f3-f19ea7eff1ea"
      },
      "outputs": [
        {
          "output_type": "execute_result",
          "data": {
            "text/plain": [
              "array([[0, 1, 2, 0, 1, 2],\n",
              "       [0, 1, 2, 0, 1, 2]])"
            ]
          },
          "metadata": {},
          "execution_count": 45
        }
      ],
      "source": [
        "a = np.arange(3)\n",
        "np.tile(a, (2, 2))"
      ]
    },
    {
      "cell_type": "code",
      "execution_count": 46,
      "metadata": {
        "ExecuteTime": {
          "end_time": "2020-09-22T15:42:51.947733Z",
          "start_time": "2020-09-22T15:42:51.944564Z"
        },
        "colab": {
          "base_uri": "https://localhost:8080/"
        },
        "id": "VgunFijNLIyQ",
        "outputId": "f13b22b5-7350-41a1-a7e7-e929d56de736"
      },
      "outputs": [
        {
          "output_type": "execute_result",
          "data": {
            "text/plain": [
              "array([[0, 1, 2],\n",
              "       [0, 1, 2],\n",
              "       [0, 1, 2],\n",
              "       [0, 1, 2]])"
            ]
          },
          "metadata": {},
          "execution_count": 46
        }
      ],
      "source": [
        "np.tile(a, (4, 1))"
      ]
    },
    {
      "cell_type": "markdown",
      "metadata": {
        "id": "mfJCsEmtLIyQ"
      },
      "source": [
        "#### Базовые операции\n",
        "\n",
        "* Базовые арифметические операции над массивами выполняются поэлементно:"
      ]
    },
    {
      "cell_type": "code",
      "execution_count": 47,
      "metadata": {
        "ExecuteTime": {
          "end_time": "2020-09-22T15:42:51.951681Z",
          "start_time": "2020-09-22T15:42:51.949257Z"
        },
        "id": "NpxiLHkQLIyQ"
      },
      "outputs": [],
      "source": [
        "A = np.arange(9).reshape(3, 3)\n",
        "B = np.arange(1, 10).reshape(3, 3)"
      ]
    },
    {
      "cell_type": "code",
      "execution_count": 49,
      "metadata": {
        "ExecuteTime": {
          "end_time": "2020-09-22T15:42:51.957595Z",
          "start_time": "2020-09-22T15:42:51.954043Z"
        },
        "colab": {
          "base_uri": "https://localhost:8080/"
        },
        "id": "GmtMHQfOLIyR",
        "outputId": "31bca123-5c01-4902-e4ce-308da9d451f7"
      },
      "outputs": [
        {
          "output_type": "stream",
          "name": "stdout",
          "text": [
            "[[0 1 2]\n",
            " [3 4 5]\n",
            " [6 7 8]]\n",
            "\n",
            "[[1 2 3]\n",
            " [4 5 6]\n",
            " [7 8 9]]\n"
          ]
        }
      ],
      "source": [
        "print(A)\n",
        "print()\n",
        "print(B)"
      ]
    },
    {
      "cell_type": "code",
      "execution_count": 50,
      "metadata": {
        "ExecuteTime": {
          "end_time": "2020-09-22T15:42:51.964000Z",
          "start_time": "2020-09-22T15:42:51.960861Z"
        },
        "colab": {
          "base_uri": "https://localhost:8080/"
        },
        "id": "QPJlgUnNLIyR",
        "outputId": "d7d7a9f4-e0d8-4371-a24a-95a1c00eef4b"
      },
      "outputs": [
        {
          "output_type": "execute_result",
          "data": {
            "text/plain": [
              "array([[ 1,  3,  5],\n",
              "       [ 7,  9, 11],\n",
              "       [13, 15, 17]])"
            ]
          },
          "metadata": {},
          "execution_count": 50
        }
      ],
      "source": [
        "A + B"
      ]
    },
    {
      "cell_type": "code",
      "source": [
        "A * B"
      ],
      "metadata": {
        "colab": {
          "base_uri": "https://localhost:8080/"
        },
        "id": "xGwMJKrBRgCv",
        "outputId": "f0e67761-6385-4635-88d8-2e1d9dd36a71"
      },
      "execution_count": 52,
      "outputs": [
        {
          "output_type": "execute_result",
          "data": {
            "text/plain": [
              "array([[ 0,  2,  6],\n",
              "       [12, 20, 30],\n",
              "       [42, 56, 72]])"
            ]
          },
          "metadata": {},
          "execution_count": 52
        }
      ]
    },
    {
      "cell_type": "code",
      "execution_count": 53,
      "metadata": {
        "ExecuteTime": {
          "end_time": "2020-09-22T15:42:51.969202Z",
          "start_time": "2020-09-22T15:42:51.966077Z"
        },
        "colab": {
          "base_uri": "https://localhost:8080/"
        },
        "id": "NydFUUUXLIyR",
        "outputId": "63c4699e-9ee3-4d9e-b7d7-5fe7150def31"
      },
      "outputs": [
        {
          "output_type": "execute_result",
          "data": {
            "text/plain": [
              "array([[0.        , 0.5       , 0.66666667],\n",
              "       [0.75      , 0.8       , 0.83333333],\n",
              "       [0.85714286, 0.875     , 0.88888889]])"
            ]
          },
          "metadata": {},
          "execution_count": 53
        }
      ],
      "source": [
        "A * 1.0 / B"
      ]
    },
    {
      "cell_type": "code",
      "execution_count": 54,
      "metadata": {
        "ExecuteTime": {
          "end_time": "2020-09-22T15:42:51.974197Z",
          "start_time": "2020-09-22T15:42:51.970594Z"
        },
        "colab": {
          "base_uri": "https://localhost:8080/"
        },
        "id": "hebF3LytLIyR",
        "outputId": "c55b9a5f-8319-4ca0-8f28-c1ca13e6a5f6"
      },
      "outputs": [
        {
          "output_type": "execute_result",
          "data": {
            "text/plain": [
              "array([[1, 2, 3],\n",
              "       [4, 5, 6],\n",
              "       [7, 8, 9]])"
            ]
          },
          "metadata": {},
          "execution_count": 54
        }
      ],
      "source": [
        "A + 1"
      ]
    },
    {
      "cell_type": "code",
      "execution_count": 55,
      "metadata": {
        "ExecuteTime": {
          "end_time": "2020-09-22T15:42:51.978713Z",
          "start_time": "2020-09-22T15:42:51.975679Z"
        },
        "colab": {
          "base_uri": "https://localhost:8080/"
        },
        "id": "YsCFcRM3LIyR",
        "outputId": "7d9da256-dd5e-4fed-deba-90c4aae31a59"
      },
      "outputs": [
        {
          "output_type": "execute_result",
          "data": {
            "text/plain": [
              "array([[ 0,  3,  6],\n",
              "       [ 9, 12, 15],\n",
              "       [18, 21, 24]])"
            ]
          },
          "metadata": {},
          "execution_count": 55
        }
      ],
      "source": [
        "3 * A"
      ]
    },
    {
      "cell_type": "code",
      "execution_count": 56,
      "metadata": {
        "ExecuteTime": {
          "end_time": "2020-09-22T15:42:51.983697Z",
          "start_time": "2020-09-22T15:42:51.980254Z"
        },
        "colab": {
          "base_uri": "https://localhost:8080/"
        },
        "id": "PcN1B84uLIyR",
        "outputId": "77e0bf86-bc68-4c94-82a5-0a934159f8fd"
      },
      "outputs": [
        {
          "output_type": "execute_result",
          "data": {
            "text/plain": [
              "array([[ 0,  1,  4],\n",
              "       [ 9, 16, 25],\n",
              "       [36, 49, 64]])"
            ]
          },
          "metadata": {},
          "execution_count": 56
        }
      ],
      "source": [
        "A ** 2"
      ]
    },
    {
      "cell_type": "code",
      "source": [
        "A"
      ],
      "metadata": {
        "colab": {
          "base_uri": "https://localhost:8080/"
        },
        "id": "fEXPTjAuR8UT",
        "outputId": "dfb0fe2e-74a7-4a2d-d512-176154f6afce"
      },
      "execution_count": 58,
      "outputs": [
        {
          "output_type": "execute_result",
          "data": {
            "text/plain": [
              "array([[0, 1, 2],\n",
              "       [3, 4, 5],\n",
              "       [6, 7, 8]])"
            ]
          },
          "metadata": {},
          "execution_count": 58
        }
      ]
    },
    {
      "cell_type": "code",
      "source": [
        "(np.eye(3) * A) ** 2 + (A - np.eye(3) * A)"
      ],
      "metadata": {
        "colab": {
          "base_uri": "https://localhost:8080/"
        },
        "id": "UoJB6z02SIZ7",
        "outputId": "adaa1cd9-6191-436d-f9a0-9d07391d5943"
      },
      "execution_count": 69,
      "outputs": [
        {
          "output_type": "execute_result",
          "data": {
            "text/plain": [
              "array([[ 0.,  1.,  2.],\n",
              "       [ 3., 16.,  5.],\n",
              "       [ 6.,  7., 64.]])"
            ]
          },
          "metadata": {},
          "execution_count": 69
        }
      ]
    },
    {
      "cell_type": "code",
      "source": [
        "A - np.eye(3) * A"
      ],
      "metadata": {
        "colab": {
          "base_uri": "https://localhost:8080/"
        },
        "id": "SFJ7EfGUSmTr",
        "outputId": "1a191323-74fa-49a8-aa78-befeef0777c4"
      },
      "execution_count": 68,
      "outputs": [
        {
          "output_type": "execute_result",
          "data": {
            "text/plain": [
              "array([[0., 1., 2.],\n",
              "       [3., 0., 5.],\n",
              "       [6., 7., 0.]])"
            ]
          },
          "metadata": {},
          "execution_count": 68
        }
      ]
    },
    {
      "cell_type": "markdown",
      "metadata": {
        "id": "EG34YdHTLIyY"
      },
      "source": [
        "Отдельно обратим внимание на то, что умножение массивов также является **поэлементным**, а не матричным:"
      ]
    },
    {
      "cell_type": "code",
      "execution_count": 70,
      "metadata": {
        "ExecuteTime": {
          "end_time": "2020-09-22T15:42:51.990640Z",
          "start_time": "2020-09-22T15:42:51.985073Z"
        },
        "colab": {
          "base_uri": "https://localhost:8080/"
        },
        "id": "KPOdJJb3LIyZ",
        "outputId": "d8eaf977-70d7-4750-e825-001efd092b3e"
      },
      "outputs": [
        {
          "output_type": "execute_result",
          "data": {
            "text/plain": [
              "array([[ 0,  2,  6],\n",
              "       [12, 20, 30],\n",
              "       [42, 56, 72]])"
            ]
          },
          "metadata": {},
          "execution_count": 70
        }
      ],
      "source": [
        "A * B"
      ]
    },
    {
      "cell_type": "markdown",
      "metadata": {
        "id": "O5pe3NsaLIyZ"
      },
      "source": [
        "Для выполнения матричного умножения необходимо использовать функцию dot:"
      ]
    },
    {
      "cell_type": "code",
      "execution_count": 71,
      "metadata": {
        "ExecuteTime": {
          "end_time": "2020-09-22T15:42:51.995038Z",
          "start_time": "2020-09-22T15:42:51.991988Z"
        },
        "colab": {
          "base_uri": "https://localhost:8080/"
        },
        "id": "WMQqYoIyLIyZ",
        "outputId": "182f66e8-76d4-43c2-da3c-26557e6d621a"
      },
      "outputs": [
        {
          "output_type": "execute_result",
          "data": {
            "text/plain": [
              "array([[ 18,  21,  24],\n",
              "       [ 54,  66,  78],\n",
              "       [ 90, 111, 132]])"
            ]
          },
          "metadata": {},
          "execution_count": 71
        }
      ],
      "source": [
        "A.dot(B)"
      ]
    },
    {
      "cell_type": "markdown",
      "metadata": {
        "id": "F7pF2nUJLIyZ"
      },
      "source": [
        "Для умножения векторов или матриц можно также использовать оператор `@`:"
      ]
    },
    {
      "cell_type": "code",
      "execution_count": 72,
      "metadata": {
        "ExecuteTime": {
          "end_time": "2020-09-22T15:42:51.999446Z",
          "start_time": "2020-09-22T15:42:51.996579Z"
        },
        "colab": {
          "base_uri": "https://localhost:8080/"
        },
        "id": "mcr0rg7JLIya",
        "outputId": "2984bfe0-2dd8-4dc4-91b3-9f9baa42c7d4"
      },
      "outputs": [
        {
          "output_type": "execute_result",
          "data": {
            "text/plain": [
              "array([[ 18,  21,  24],\n",
              "       [ 54,  66,  78],\n",
              "       [ 90, 111, 132]])"
            ]
          },
          "metadata": {},
          "execution_count": 72
        }
      ],
      "source": [
        "A @ B"
      ]
    },
    {
      "cell_type": "code",
      "execution_count": 73,
      "metadata": {
        "ExecuteTime": {
          "end_time": "2020-09-22T15:42:52.004093Z",
          "start_time": "2020-09-22T15:42:52.000788Z"
        },
        "colab": {
          "base_uri": "https://localhost:8080/"
        },
        "id": "f7tgOJ6SLIya",
        "outputId": "2e806a39-ebe2-4377-cf34-9e43ebc8553b"
      },
      "outputs": [
        {
          "output_type": "execute_result",
          "data": {
            "text/plain": [
              "10"
            ]
          },
          "metadata": {},
          "execution_count": 73
        }
      ],
      "source": [
        "np.array([1, 2, 3, 4]) @ np.array([1, 1, 1, 1])"
      ]
    },
    {
      "cell_type": "markdown",
      "metadata": {
        "id": "ToN_RbD3LIya"
      },
      "source": [
        "Поскольку операции выполняются поэлементно, операнды бинарных операций должны иметь одинаковый размер. Тем не менее, операция может быть корректно выполнена, если размеры операндов таковы, что они могут быть расширены до одинаковых размеров. Данная возможность называется [broadcasting](http://www.scipy-lectures.org/intro/numpy/operations.html#broadcasting):\n",
        "![](https://jakevdp.github.io/PythonDataScienceHandbook/figures/02.05-broadcasting.png)"
      ]
    },
    {
      "cell_type": "code",
      "execution_count": 74,
      "metadata": {
        "ExecuteTime": {
          "end_time": "2020-09-22T15:42:52.011906Z",
          "start_time": "2020-09-22T15:42:52.005614Z"
        },
        "colab": {
          "base_uri": "https://localhost:8080/"
        },
        "id": "wJQzFDGkLIya",
        "outputId": "b27f656d-4738-48d3-b098-f566e73b0f66"
      },
      "outputs": [
        {
          "output_type": "execute_result",
          "data": {
            "text/plain": [
              "array([[ 0,  1,  2],\n",
              "       [10, 11, 12],\n",
              "       [20, 21, 22],\n",
              "       [30, 31, 32]])"
            ]
          },
          "metadata": {},
          "execution_count": 74
        }
      ],
      "source": [
        "np.tile(np.arange(0, 40, 10), (3, 1)).T + np.array([0, 1, 2])"
      ]
    },
    {
      "cell_type": "markdown",
      "metadata": {
        "id": "HyPrumhxLIyb"
      },
      "source": [
        "* Некоторые операции над массивами (например, вычисления минимума, максимума, суммы элементов) выполняются над всеми элементами вне зависимости от формы массива, однако при указании оси выполняются вдоль нее (например, для нахождения максимума каждой строки или каждого столбца):"
      ]
    },
    {
      "cell_type": "code",
      "execution_count": 75,
      "metadata": {
        "ExecuteTime": {
          "end_time": "2020-09-22T15:42:52.023902Z",
          "start_time": "2020-09-22T15:42:52.020457Z"
        },
        "colab": {
          "base_uri": "https://localhost:8080/"
        },
        "id": "JiNfoEGELIyb",
        "outputId": "fa7793d4-9896-4eae-cfa6-04d2aaa9077d"
      },
      "outputs": [
        {
          "output_type": "execute_result",
          "data": {
            "text/plain": [
              "array([[0, 1, 2],\n",
              "       [3, 4, 5],\n",
              "       [6, 7, 8]])"
            ]
          },
          "metadata": {},
          "execution_count": 75
        }
      ],
      "source": [
        "A"
      ]
    },
    {
      "cell_type": "code",
      "execution_count": 76,
      "metadata": {
        "ExecuteTime": {
          "end_time": "2020-09-22T15:42:52.028517Z",
          "start_time": "2020-09-22T15:42:52.025419Z"
        },
        "colab": {
          "base_uri": "https://localhost:8080/"
        },
        "id": "8FFtuVTNLIyb",
        "outputId": "2cb6d91a-ac99-4464-a954-2ed0f447d3f8"
      },
      "outputs": [
        {
          "output_type": "execute_result",
          "data": {
            "text/plain": [
              "0"
            ]
          },
          "metadata": {},
          "execution_count": 76
        }
      ],
      "source": [
        "A.min()"
      ]
    },
    {
      "cell_type": "code",
      "source": [
        "A.max()"
      ],
      "metadata": {
        "colab": {
          "base_uri": "https://localhost:8080/"
        },
        "id": "v0yYpqtET_lq",
        "outputId": "e53b5dab-8f1f-496d-9af5-1fe4c26c3d80"
      },
      "execution_count": 78,
      "outputs": [
        {
          "output_type": "execute_result",
          "data": {
            "text/plain": [
              "8"
            ]
          },
          "metadata": {},
          "execution_count": 78
        }
      ]
    },
    {
      "cell_type": "code",
      "execution_count": 83,
      "metadata": {
        "ExecuteTime": {
          "end_time": "2020-09-22T15:42:52.033907Z",
          "start_time": "2020-09-22T15:42:52.030567Z"
        },
        "colab": {
          "base_uri": "https://localhost:8080/"
        },
        "id": "fEM6m3LbLIyb",
        "outputId": "13225a95-9bf4-4e8f-8654-58f2b482c48b"
      },
      "outputs": [
        {
          "output_type": "execute_result",
          "data": {
            "text/plain": [
              "array([2, 5, 8])"
            ]
          },
          "metadata": {},
          "execution_count": 83
        }
      ],
      "source": [
        "A.max(axis=1)"
      ]
    },
    {
      "cell_type": "code",
      "execution_count": 85,
      "metadata": {
        "ExecuteTime": {
          "end_time": "2020-09-22T15:42:52.047824Z",
          "start_time": "2020-09-22T15:42:52.035571Z"
        },
        "colab": {
          "base_uri": "https://localhost:8080/"
        },
        "id": "rDZrs676LIyb",
        "outputId": "23b45cc2-9310-46df-cf62-1d7fba694ae3"
      },
      "outputs": [
        {
          "output_type": "execute_result",
          "data": {
            "text/plain": [
              "array([ 9, 12, 15])"
            ]
          },
          "metadata": {},
          "execution_count": 85
        }
      ],
      "source": [
        "A.sum(axis=0)"
      ]
    },
    {
      "cell_type": "markdown",
      "metadata": {
        "id": "W0lzUSpALIyc"
      },
      "source": [
        "#### Индексация\n",
        "\n",
        "Для доступа к элементам может использоваться [много различных способов](http://docs.scipy.org/doc/numpy/reference/arrays.indexing.html), рассмотрим основные.\n",
        "\n",
        "* Для индексации могут использоваться конкретные значения индексов и срезы (slice), как и в стандартных типах Python. Для многомерных массивов индексы для различных осей разделяются запятой. Если для многомерного массива указаны индексы не для всех измерений, недостающие заполняются полным срезом (:)."
      ]
    },
    {
      "cell_type": "code",
      "execution_count": 86,
      "metadata": {
        "ExecuteTime": {
          "end_time": "2020-09-22T15:42:52.053659Z",
          "start_time": "2020-09-22T15:42:52.049560Z"
        },
        "colab": {
          "base_uri": "https://localhost:8080/"
        },
        "id": "vSTor-vTLIyc",
        "outputId": "6bea656c-69c3-4f3c-c3c3-188fd0c4242d"
      },
      "outputs": [
        {
          "output_type": "execute_result",
          "data": {
            "text/plain": [
              "array([0, 1, 2, 3, 4, 5, 6, 7, 8, 9])"
            ]
          },
          "metadata": {},
          "execution_count": 86
        }
      ],
      "source": [
        "a = np.arange(10)\n",
        "a"
      ]
    },
    {
      "cell_type": "code",
      "execution_count": 87,
      "metadata": {
        "ExecuteTime": {
          "end_time": "2020-09-22T15:42:52.061600Z",
          "start_time": "2020-09-22T15:42:52.055403Z"
        },
        "colab": {
          "base_uri": "https://localhost:8080/"
        },
        "id": "dgIujMyBLIyc",
        "outputId": "8eabe46b-a636-442b-dab6-adf4cc1d73f6"
      },
      "outputs": [
        {
          "output_type": "execute_result",
          "data": {
            "text/plain": [
              "array([2, 3, 4])"
            ]
          },
          "metadata": {},
          "execution_count": 87
        }
      ],
      "source": [
        "a[2:5]"
      ]
    },
    {
      "cell_type": "code",
      "execution_count": 88,
      "metadata": {
        "ExecuteTime": {
          "end_time": "2020-09-22T15:42:52.067935Z",
          "start_time": "2020-09-22T15:42:52.063842Z"
        },
        "colab": {
          "base_uri": "https://localhost:8080/"
        },
        "id": "6Xn208TyLIyc",
        "outputId": "201d69ee-2b72-4164-df41-5cfda5deb97b"
      },
      "outputs": [
        {
          "output_type": "execute_result",
          "data": {
            "text/plain": [
              "array([3, 5, 7])"
            ]
          },
          "metadata": {},
          "execution_count": 88
        }
      ],
      "source": [
        "a[3:8:2]"
      ]
    },
    {
      "cell_type": "code",
      "execution_count": 89,
      "metadata": {
        "ExecuteTime": {
          "end_time": "2020-09-22T15:42:52.074833Z",
          "start_time": "2020-09-22T15:42:52.070054Z"
        },
        "colab": {
          "base_uri": "https://localhost:8080/"
        },
        "id": "veAEkw-MLIyd",
        "outputId": "ca7e069d-c294-4b85-d45a-b97b47cd5c39"
      },
      "outputs": [
        {
          "output_type": "execute_result",
          "data": {
            "text/plain": [
              "array([[ 0,  1,  2,  3,  4,  5,  6,  7,  8],\n",
              "       [ 9, 10, 11, 12, 13, 14, 15, 16, 17],\n",
              "       [18, 19, 20, 21, 22, 23, 24, 25, 26],\n",
              "       [27, 28, 29, 30, 31, 32, 33, 34, 35],\n",
              "       [36, 37, 38, 39, 40, 41, 42, 43, 44],\n",
              "       [45, 46, 47, 48, 49, 50, 51, 52, 53],\n",
              "       [54, 55, 56, 57, 58, 59, 60, 61, 62],\n",
              "       [63, 64, 65, 66, 67, 68, 69, 70, 71],\n",
              "       [72, 73, 74, 75, 76, 77, 78, 79, 80]])"
            ]
          },
          "metadata": {},
          "execution_count": 89
        }
      ],
      "source": [
        "A = np.arange(81).reshape(9, -1)\n",
        "A"
      ]
    },
    {
      "cell_type": "code",
      "execution_count": 90,
      "metadata": {
        "ExecuteTime": {
          "end_time": "2020-09-22T15:42:52.081227Z",
          "start_time": "2020-09-22T15:42:52.077236Z"
        },
        "colab": {
          "base_uri": "https://localhost:8080/"
        },
        "id": "7_8dYatiLIyd",
        "outputId": "b40f83f2-d492-4a35-fac2-c9abe11801fe"
      },
      "outputs": [
        {
          "output_type": "execute_result",
          "data": {
            "text/plain": [
              "array([[18, 19, 20, 21, 22, 23, 24, 25, 26],\n",
              "       [27, 28, 29, 30, 31, 32, 33, 34, 35]])"
            ]
          },
          "metadata": {},
          "execution_count": 90
        }
      ],
      "source": [
        "A[2:4]"
      ]
    },
    {
      "cell_type": "code",
      "execution_count": 91,
      "metadata": {
        "ExecuteTime": {
          "end_time": "2020-09-22T15:42:52.087442Z",
          "start_time": "2020-09-22T15:42:52.083387Z"
        },
        "colab": {
          "base_uri": "https://localhost:8080/"
        },
        "id": "xA8u33jvLIyd",
        "outputId": "e2cf1552-a4f7-40b5-a3b4-b12d31df765a"
      },
      "outputs": [
        {
          "output_type": "execute_result",
          "data": {
            "text/plain": [
              "array([[ 2,  3],\n",
              "       [11, 12],\n",
              "       [20, 21],\n",
              "       [29, 30],\n",
              "       [38, 39],\n",
              "       [47, 48],\n",
              "       [56, 57],\n",
              "       [65, 66],\n",
              "       [74, 75]])"
            ]
          },
          "metadata": {},
          "execution_count": 91
        }
      ],
      "source": [
        "A[:, 2:4]"
      ]
    },
    {
      "cell_type": "code",
      "execution_count": 92,
      "metadata": {
        "ExecuteTime": {
          "end_time": "2020-09-22T15:42:52.093678Z",
          "start_time": "2020-09-22T15:42:52.089478Z"
        },
        "colab": {
          "base_uri": "https://localhost:8080/"
        },
        "id": "-_eSLqPCLIye",
        "outputId": "6e4e4c20-18d8-4f76-d3d1-1f16c7567bff"
      },
      "outputs": [
        {
          "output_type": "execute_result",
          "data": {
            "text/plain": [
              "array([[20, 21],\n",
              "       [29, 30]])"
            ]
          },
          "metadata": {},
          "execution_count": 92
        }
      ],
      "source": [
        "A[2:4, 2:4]"
      ]
    },
    {
      "cell_type": "code",
      "execution_count": 93,
      "metadata": {
        "ExecuteTime": {
          "end_time": "2020-09-22T15:42:52.099303Z",
          "start_time": "2020-09-22T15:42:52.095614Z"
        },
        "colab": {
          "base_uri": "https://localhost:8080/"
        },
        "id": "LWrd2lw8LIye",
        "outputId": "5bb80bc6-796c-4e16-f20f-15bda776b0b5"
      },
      "outputs": [
        {
          "output_type": "execute_result",
          "data": {
            "text/plain": [
              "array([72, 73, 74, 75, 76, 77, 78, 79, 80])"
            ]
          },
          "metadata": {},
          "execution_count": 93
        }
      ],
      "source": [
        "A[-1]"
      ]
    },
    {
      "cell_type": "markdown",
      "metadata": {
        "id": "YVLYXP2CLIye"
      },
      "source": [
        "* Также может использоваться индексация при помощи списков индексов (по каждой из осей):"
      ]
    },
    {
      "cell_type": "code",
      "execution_count": 94,
      "metadata": {
        "ExecuteTime": {
          "end_time": "2020-09-22T15:42:52.108235Z",
          "start_time": "2020-09-22T15:42:52.101451Z"
        },
        "colab": {
          "base_uri": "https://localhost:8080/"
        },
        "id": "L0jYKtw9LIye",
        "outputId": "5e1f6786-eeb0-4b74-f01f-8c33b2be596b"
      },
      "outputs": [
        {
          "output_type": "execute_result",
          "data": {
            "text/plain": [
              "array([[ 0,  1,  2,  3,  4,  5,  6,  7,  8],\n",
              "       [ 9, 10, 11, 12, 13, 14, 15, 16, 17],\n",
              "       [18, 19, 20, 21, 22, 23, 24, 25, 26],\n",
              "       [27, 28, 29, 30, 31, 32, 33, 34, 35],\n",
              "       [36, 37, 38, 39, 40, 41, 42, 43, 44],\n",
              "       [45, 46, 47, 48, 49, 50, 51, 52, 53],\n",
              "       [54, 55, 56, 57, 58, 59, 60, 61, 62],\n",
              "       [63, 64, 65, 66, 67, 68, 69, 70, 71],\n",
              "       [72, 73, 74, 75, 76, 77, 78, 79, 80]])"
            ]
          },
          "metadata": {},
          "execution_count": 94
        }
      ],
      "source": [
        "A = np.arange(81).reshape(9, -1)\n",
        "A"
      ]
    },
    {
      "cell_type": "code",
      "source": [
        "A[[2, 4, 5]]"
      ],
      "metadata": {
        "colab": {
          "base_uri": "https://localhost:8080/"
        },
        "id": "xh1hROG0VPlM",
        "outputId": "8ce82297-a4d1-4f23-d907-cf71f363ece4"
      },
      "execution_count": 95,
      "outputs": [
        {
          "output_type": "execute_result",
          "data": {
            "text/plain": [
              "array([[18, 19, 20, 21, 22, 23, 24, 25, 26],\n",
              "       [36, 37, 38, 39, 40, 41, 42, 43, 44],\n",
              "       [45, 46, 47, 48, 49, 50, 51, 52, 53]])"
            ]
          },
          "metadata": {},
          "execution_count": 95
        }
      ]
    },
    {
      "cell_type": "code",
      "execution_count": 96,
      "metadata": {
        "ExecuteTime": {
          "end_time": "2020-09-22T15:42:52.116476Z",
          "start_time": "2020-09-22T15:42:52.110224Z"
        },
        "colab": {
          "base_uri": "https://localhost:8080/"
        },
        "id": "eWiO8njHLIye",
        "outputId": "a2a4926b-8e5b-4680-f528-1a16c7b3f98a"
      },
      "outputs": [
        {
          "output_type": "execute_result",
          "data": {
            "text/plain": [
              "array([18, 37, 48])"
            ]
          },
          "metadata": {},
          "execution_count": 96
        }
      ],
      "source": [
        "A[[2, 4, 5], [0, 1, 3]]"
      ]
    },
    {
      "cell_type": "markdown",
      "metadata": {
        "id": "NSdoB1WpLIyf"
      },
      "source": [
        "* Может применяться логическая индексация (при помощи логических массивов):"
      ]
    },
    {
      "cell_type": "code",
      "execution_count": 97,
      "metadata": {
        "ExecuteTime": {
          "end_time": "2020-09-22T15:42:52.121334Z",
          "start_time": "2020-09-22T15:42:52.117919Z"
        },
        "colab": {
          "base_uri": "https://localhost:8080/"
        },
        "id": "eKuz6prALIyf",
        "outputId": "46802771-3456-443b-f390-1d2177454a84"
      },
      "outputs": [
        {
          "output_type": "execute_result",
          "data": {
            "text/plain": [
              "array([ 0,  1,  2,  3,  4,  5,  6,  7,  8,  9, 10])"
            ]
          },
          "metadata": {},
          "execution_count": 97
        }
      ],
      "source": [
        "A = np.arange(11)\n",
        "A"
      ]
    },
    {
      "cell_type": "code",
      "source": [
        "A % 2 == 0"
      ],
      "metadata": {
        "colab": {
          "base_uri": "https://localhost:8080/"
        },
        "id": "X9196IVUVvQj",
        "outputId": "b692c5a3-3a32-4115-8e70-65bc093f029b"
      },
      "execution_count": 102,
      "outputs": [
        {
          "output_type": "execute_result",
          "data": {
            "text/plain": [
              "array([ True, False,  True, False,  True, False,  True, False,  True,\n",
              "       False,  True])"
            ]
          },
          "metadata": {},
          "execution_count": 102
        }
      ]
    },
    {
      "cell_type": "code",
      "source": [
        "A[A % 2 == 0]"
      ],
      "metadata": {
        "colab": {
          "base_uri": "https://localhost:8080/"
        },
        "id": "COFREm86VbNY",
        "outputId": "365c3c88-9b44-4a0d-a970-0fa286b908fa"
      },
      "execution_count": 103,
      "outputs": [
        {
          "output_type": "execute_result",
          "data": {
            "text/plain": [
              "array([ 0,  2,  4,  6,  8, 10])"
            ]
          },
          "metadata": {},
          "execution_count": 103
        }
      ]
    },
    {
      "cell_type": "code",
      "execution_count": 104,
      "metadata": {
        "ExecuteTime": {
          "end_time": "2020-09-22T15:42:52.127505Z",
          "start_time": "2020-09-22T15:42:52.123314Z"
        },
        "colab": {
          "base_uri": "https://localhost:8080/"
        },
        "id": "teB7TdU_LIyf",
        "outputId": "8e634967-930d-4593-d097-e7142bb0c605"
      },
      "outputs": [
        {
          "output_type": "execute_result",
          "data": {
            "text/plain": [
              "array([ 0,  1,  2,  4,  5,  6,  7,  9, 10])"
            ]
          },
          "metadata": {},
          "execution_count": 104
        }
      ],
      "source": [
        "A[A % 5 != 3]"
      ]
    },
    {
      "cell_type": "code",
      "execution_count": 108,
      "metadata": {
        "ExecuteTime": {
          "end_time": "2020-09-22T15:42:52.134183Z",
          "start_time": "2020-09-22T15:42:52.129853Z"
        },
        "colab": {
          "base_uri": "https://localhost:8080/"
        },
        "id": "_Lq-VBu2LIyf",
        "outputId": "e6e1296a-0992-4df9-af7e-831ecb8d7063"
      },
      "outputs": [
        {
          "output_type": "execute_result",
          "data": {
            "text/plain": [
              "array([ 0,  1,  2,  4,  5,  6,  7, 10])"
            ]
          },
          "metadata": {},
          "execution_count": 108
        }
      ],
      "source": [
        "A[np.logical_and(A != 9, A % 5 != 3)] # также можно использовать логические операции"
      ]
    },
    {
      "cell_type": "markdown",
      "metadata": {
        "id": "UVOYBStgLIyg"
      },
      "source": [
        "#### Зачем?\n",
        "\n",
        "Зачем необходимо использовать NumPy, если существуют стандартные списки/кортежи и циклы?\n",
        "\n",
        "Причина заключается в скорости работы. Попробуем посчитать скалярное произведение 2 больших векторов:"
      ]
    },
    {
      "cell_type": "code",
      "execution_count": 109,
      "metadata": {
        "ExecuteTime": {
          "end_time": "2020-09-22T15:42:53.481301Z",
          "start_time": "2020-09-22T15:42:52.136072Z"
        },
        "id": "2_B_l4w_LIyg"
      },
      "outputs": [],
      "source": [
        "SIZE = 10000000\n",
        "\n",
        "A_quick_arr = np.random.normal(size = (SIZE,))\n",
        "B_quick_arr = np.random.normal(size = (SIZE,))\n",
        "\n",
        "A_slow_list, B_slow_list = list(A_quick_arr), list(B_quick_arr)"
      ]
    },
    {
      "cell_type": "code",
      "execution_count": 110,
      "metadata": {
        "ExecuteTime": {
          "end_time": "2020-09-22T15:42:56.303195Z",
          "start_time": "2020-09-22T15:42:53.483058Z"
        },
        "colab": {
          "base_uri": "https://localhost:8080/"
        },
        "id": "eyz1OXlXLIyg",
        "outputId": "31b4d46f-e371-4406-8c9b-ab54dccbb46b"
      },
      "outputs": [
        {
          "output_type": "stream",
          "name": "stdout",
          "text": [
            "CPU times: user 3.02 s, sys: 980 µs, total: 3.03 s\n",
            "Wall time: 3.03 s\n"
          ]
        }
      ],
      "source": [
        "%%time\n",
        "ans = 0\n",
        "for i in range(len(A_slow_list)):\n",
        "    ans += A_slow_list[i] * B_slow_list[i]"
      ]
    },
    {
      "cell_type": "code",
      "execution_count": 111,
      "metadata": {
        "ExecuteTime": {
          "end_time": "2020-09-22T15:42:58.772193Z",
          "start_time": "2020-09-22T15:42:56.304960Z"
        },
        "colab": {
          "base_uri": "https://localhost:8080/"
        },
        "id": "uVlHU3OaLIyh",
        "outputId": "c6bcc213-ae47-48d2-dd6b-f7c1e789aa6f"
      },
      "outputs": [
        {
          "output_type": "stream",
          "name": "stdout",
          "text": [
            "CPU times: user 2.34 s, sys: 525 ms, total: 2.87 s\n",
            "Wall time: 2.88 s\n"
          ]
        }
      ],
      "source": [
        "%%time\n",
        "ans = sum([A_slow_list[i] * B_slow_list[i] for i in range(SIZE)])"
      ]
    },
    {
      "cell_type": "code",
      "execution_count": 112,
      "metadata": {
        "ExecuteTime": {
          "end_time": "2020-09-22T15:42:58.804583Z",
          "start_time": "2020-09-22T15:42:58.773657Z"
        },
        "colab": {
          "base_uri": "https://localhost:8080/"
        },
        "id": "NGEOlT9XLIyh",
        "outputId": "a9eaf168-b1f3-4012-da2b-808b7cabe1dd"
      },
      "outputs": [
        {
          "output_type": "stream",
          "name": "stdout",
          "text": [
            "CPU times: user 29.4 ms, sys: 35.8 ms, total: 65.2 ms\n",
            "Wall time: 63.6 ms\n"
          ]
        }
      ],
      "source": [
        "%%time\n",
        "ans = np.sum(A_quick_arr * B_quick_arr)"
      ]
    },
    {
      "cell_type": "code",
      "execution_count": 113,
      "metadata": {
        "ExecuteTime": {
          "end_time": "2020-09-22T15:42:58.818620Z",
          "start_time": "2020-09-22T15:42:58.807193Z"
        },
        "colab": {
          "base_uri": "https://localhost:8080/"
        },
        "id": "FDR4WgQuLIyi",
        "outputId": "b1e70898-d87c-44b9-9408-c051b5f3e842"
      },
      "outputs": [
        {
          "output_type": "stream",
          "name": "stdout",
          "text": [
            "CPU times: user 30.8 ms, sys: 1.56 ms, total: 32.4 ms\n",
            "Wall time: 25.3 ms\n"
          ]
        }
      ],
      "source": [
        "%%time\n",
        "ans = A_quick_arr.dot(B_quick_arr)"
      ]
    },
    {
      "cell_type": "markdown",
      "metadata": {
        "id": "JmAcJAPxLIyi"
      },
      "source": [
        "NumPy работает быстро по нескольким причинам:\n",
        "* Массивы хранятся в непрерывном участке памяти, а все элементы имеют один и тот же тип\n",
        "* Для вычислений по возможности используются библиотеки линейной алгебры вроде BLAS\n",
        "\n",
        "Посмотреть, какая библиотека используется у вас, можно в конфигурации NumPy:"
      ]
    },
    {
      "cell_type": "code",
      "execution_count": 114,
      "metadata": {
        "ExecuteTime": {
          "end_time": "2020-09-22T15:42:58.983297Z",
          "start_time": "2020-09-22T15:42:58.820808Z"
        },
        "scrolled": false,
        "colab": {
          "base_uri": "https://localhost:8080/"
        },
        "id": "-v_KB8G1LIyi",
        "outputId": "938763b2-3799-4e93-9a5e-c4078d29530a"
      },
      "outputs": [
        {
          "output_type": "stream",
          "name": "stdout",
          "text": [
            "Build Dependencies:\n",
            "  blas:\n",
            "    detection method: pkgconfig\n",
            "    found: true\n",
            "    include directory: /usr/local/include\n",
            "    lib directory: /usr/local/lib\n",
            "    name: openblas64\n",
            "    openblas configuration: USE_64BITINT=1 DYNAMIC_ARCH=1 DYNAMIC_OLDER= NO_CBLAS=\n",
            "      NO_LAPACK= NO_LAPACKE= NO_AFFINITY=1 USE_OPENMP= HASWELL MAX_THREADS=2\n",
            "    pc file directory: /usr/local/lib/pkgconfig\n",
            "    version: 0.3.23.dev\n",
            "  lapack:\n",
            "    detection method: internal\n",
            "    found: true\n",
            "    include directory: unknown\n",
            "    lib directory: unknown\n",
            "    name: dep139863411681952\n",
            "    openblas configuration: unknown\n",
            "    pc file directory: unknown\n",
            "    version: 1.26.4\n",
            "Compilers:\n",
            "  c:\n",
            "    args: -fno-strict-aliasing\n",
            "    commands: cc\n",
            "    linker: ld.bfd\n",
            "    linker args: -Wl,--strip-debug, -fno-strict-aliasing\n",
            "    name: gcc\n",
            "    version: 10.2.1\n",
            "  c++:\n",
            "    commands: c++\n",
            "    linker: ld.bfd\n",
            "    linker args: -Wl,--strip-debug\n",
            "    name: gcc\n",
            "    version: 10.2.1\n",
            "  cython:\n",
            "    commands: cython\n",
            "    linker: cython\n",
            "    name: cython\n",
            "    version: 3.0.8\n",
            "Machine Information:\n",
            "  build:\n",
            "    cpu: x86_64\n",
            "    endian: little\n",
            "    family: x86_64\n",
            "    system: linux\n",
            "  host:\n",
            "    cpu: x86_64\n",
            "    endian: little\n",
            "    family: x86_64\n",
            "    system: linux\n",
            "Python Information:\n",
            "  path: /opt/python/cp310-cp310/bin/python\n",
            "  version: '3.10'\n",
            "SIMD Extensions:\n",
            "  baseline:\n",
            "  - SSE\n",
            "  - SSE2\n",
            "  - SSE3\n",
            "  found:\n",
            "  - SSSE3\n",
            "  - SSE41\n",
            "  - POPCNT\n",
            "  - SSE42\n",
            "  - AVX\n",
            "  - F16C\n",
            "  - FMA3\n",
            "  - AVX2\n",
            "  not found:\n",
            "  - AVX512F\n",
            "  - AVX512CD\n",
            "  - AVX512_KNL\n",
            "  - AVX512_KNM\n",
            "  - AVX512_SKX\n",
            "  - AVX512_CLX\n",
            "  - AVX512_CNL\n",
            "  - AVX512_ICL\n",
            "\n",
            "None\n"
          ]
        }
      ],
      "source": [
        "print(np.show_config())"
      ]
    },
    {
      "cell_type": "markdown",
      "metadata": {
        "id": "2kSqLlHRLIyj"
      },
      "source": [
        "### Примеры векторизации вычислений на NumPy\n"
      ]
    },
    {
      "cell_type": "markdown",
      "metadata": {
        "id": "5x3heYfzLIyj"
      },
      "source": [
        "Разберём несколько задач (из [100 numpy exercises](http://www.labri.fr/perso/nrougier/teaching/numpy.100/)), где NumPy может существенно ускорить вычисления и упростить код."
      ]
    },
    {
      "cell_type": "markdown",
      "metadata": {
        "id": "GpmD-kVDLIyj"
      },
      "source": [
        "Дан четырёхмерный массив. Как получить двумерный массив, в котором элемент с индексами $(i, j)$ содержит сумму всех элементов исходного массива, у которых первые два индекса — это $(i, j)$?"
      ]
    },
    {
      "cell_type": "code",
      "source": [
        "# (i, j) = sum_k,l_((i, j, k, l))"
      ],
      "metadata": {
        "id": "hIK6NpgTWiot"
      },
      "execution_count": 115,
      "outputs": []
    },
    {
      "cell_type": "code",
      "execution_count": 116,
      "metadata": {
        "ExecuteTime": {
          "end_time": "2020-09-22T15:42:58.988860Z",
          "start_time": "2020-09-22T15:42:58.985170Z"
        },
        "colab": {
          "base_uri": "https://localhost:8080/"
        },
        "id": "3nHFWFPYLIyk",
        "outputId": "2fc118f6-32d8-4c7d-c156-47c054520d4f"
      },
      "outputs": [
        {
          "output_type": "stream",
          "name": "stdout",
          "text": [
            "[[248113 263969 238296 245965 257017]\n",
            " [242792 242816 241979 245733 249144]]\n"
          ]
        }
      ],
      "source": [
        "A = np.random.randint(0,1000,(2,5,20,25))\n",
        "res = A.reshape(A.shape[:-2] + (-1,)).sum(axis=-1)\n",
        "print(res)"
      ]
    },
    {
      "cell_type": "code",
      "source": [
        "A.shape[:-2] + (-1,)\n",
        "\n",
        "A.reshape(A.shape[:-2] + (-1,)).shape"
      ],
      "metadata": {
        "colab": {
          "base_uri": "https://localhost:8080/"
        },
        "id": "Fud-DTdeXENL",
        "outputId": "32e6b699-1f1e-411d-c4ea-c8511614af0f"
      },
      "execution_count": 123,
      "outputs": [
        {
          "output_type": "execute_result",
          "data": {
            "text/plain": [
              "(2, 5, 500)"
            ]
          },
          "metadata": {},
          "execution_count": 123
        }
      ]
    },
    {
      "cell_type": "markdown",
      "metadata": {
        "id": "WD3s_eNbLIyk"
      },
      "source": [
        "Даны одномерные массивы A и B. Элементы массива B принимают значения от 0 до `len(A) - 1`. Требуется прибавить единицу ко всем элементам A, чьи индексы записаны в B. Если индекс встречается в B несколько раз, то надо прибавить единицу для каждого такого вхождения."
      ]
    },
    {
      "cell_type": "code",
      "execution_count": null,
      "metadata": {
        "ExecuteTime": {
          "end_time": "2020-09-22T15:42:59.001625Z",
          "start_time": "2020-09-22T15:42:58.990334Z"
        },
        "id": "laOAf-d-LIyk",
        "outputId": "2050a561-1039-4dea-c739-a764af763cdd"
      },
      "outputs": [
        {
          "name": "stdout",
          "output_type": "stream",
          "text": [
            "[1. 1. 1. 1. 1. 1. 1. 1. 1. 1.]\n",
            "[3 1 8 5 8 7 5 0 9 7 2 9 9 2 2 0 7 9 7 2]\n",
            "[3. 2. 5. 2. 1. 3. 1. 5. 3. 5.]\n"
          ]
        }
      ],
      "source": [
        "A = np.ones(10)\n",
        "B = np.random.randint(0,len(A),20)\n",
        "print(A)\n",
        "print(B)\n",
        "A += np.bincount(B, minlength=len(A))\n",
        "print(A)"
      ]
    },
    {
      "cell_type": "markdown",
      "metadata": {
        "id": "ZcfQ0XlILIyk"
      },
      "source": [
        "Даны одномерный массив A и число n. Вычислите массив B, в котором i-й элемент равен среднему значению элементов с i-го по (i+n-1)-й в массиве A."
      ]
    },
    {
      "cell_type": "code",
      "execution_count": null,
      "metadata": {
        "ExecuteTime": {
          "end_time": "2020-09-22T15:42:59.009414Z",
          "start_time": "2020-09-22T15:42:59.004125Z"
        },
        "id": "Qbq9CJeXLIyl",
        "outputId": "870214df-d188-4aa9-db87-f14366b45028"
      },
      "outputs": [
        {
          "name": "stdout",
          "output_type": "stream",
          "text": [
            "[6 5 7 6 6 1 7 8 1 1 8 7 8 8 1 5 2 9 2 4]\n",
            "[6.         6.         6.33333333 4.33333333 4.66666667 5.33333333\n",
            " 5.33333333 3.33333333 3.33333333 5.33333333 7.66666667 7.66666667\n",
            " 5.66666667 4.66666667 2.66666667 5.33333333 4.33333333 5.        ]\n"
          ]
        }
      ],
      "source": [
        "def moving_average(Z, n=3) :\n",
        "    ret = np.cumsum(Z, dtype=float)\n",
        "    ret[n:] = ret[n:] - ret[:-n]\n",
        "    return ret[n - 1:] / n\n",
        "A = np.random.randint(0, 10, 20)\n",
        "print(A)\n",
        "print(moving_average(A, n=3))"
      ]
    }
  ],
  "metadata": {
    "kernelspec": {
      "display_name": "Python 3",
      "language": "python",
      "name": "python3"
    },
    "language_info": {
      "codemirror_mode": {
        "name": "ipython",
        "version": 3
      },
      "file_extension": ".py",
      "mimetype": "text/x-python",
      "name": "python",
      "nbconvert_exporter": "python",
      "pygments_lexer": "ipython3",
      "version": "3.8.2"
    },
    "colab": {
      "provenance": []
    }
  },
  "nbformat": 4,
  "nbformat_minor": 0
}